{
 "cells": [
  {
   "cell_type": "markdown",
   "metadata": {},
   "source": [
    "<font size=\"5\">**Project MDI701 : Predicting H-1B application result in the US**</font>\n",
    "<br><br>\n",
    "We all know that the American work visa is difficult to obtain, applicants must have luck to get the draw before starting the application process. \n",
    "<br>\n",
    "This project aims to study the H1B - American visa passing rate with different applicants background information such as \"wage\", \"company\", \"job title\" etc.\n",
    "<br><br>\n",
    "The project has 6 parts:\n",
    "<br>\n",
    "First part: import data\n",
    "<br>\n",
    "Second part: study data structure\n",
    "<br>\n",
    "Third part: clean data\n",
    "<br>\n",
    "Fourth part: analyze data\n",
    "<br>\n",
    "Fifth part: use machine learning to predict pass or rejected\n",
    "<br>\n",
    "Sixth part: use cross validation to improve the model"
   ]
  },
  {
   "cell_type": "code",
   "execution_count": null,
   "metadata": {},
   "outputs": [],
   "source": [
    "import findspark\n",
    "import pyspark\n",
    "import random\n",
    "import plotly\n",
    "from pyspark.sql.types import StructType, StructField, IntegerType, StringType\n",
    "from pyspark.sql.types import DoubleType, IntegerType\n",
    "from pyspark.ml.feature import VectorAssembler\n",
    "from pyspark.sql import SQLContext\n",
    "from pyspark.ml.linalg import VectorUDT,Vectors\n",
    "from pyspark.sql.functions import split \n",
    "from pyspark.sql.functions import substring_index \n",
    "from pyspark.sql.functions import round\n",
    "from pyspark.sql.functions import avg\n",
    "import pyspark.sql.functions as func\n",
    "from matplotlib import pyplot as plt\n",
    "import pyspark.sql.functions as f\n",
    "import numpy as np\n",
    "\n",
    "\n",
    "sc = pyspark.SparkContext(appName=\"Pi\")\n",
    "findspark.init()"
   ]
  },
  {
   "cell_type": "markdown",
   "metadata": {},
   "source": [
    "# Import data"
   ]
  },
  {
   "cell_type": "code",
   "execution_count": 2,
   "metadata": {},
   "outputs": [],
   "source": [
    "\n",
    "schema = StructType([StructField(\"No\", IntegerType(), True),\n",
    "                     StructField(\"CASE_STATUS\",StringType(),True),\n",
    "                     StructField(\"EMPLOYER_NAME\",StringType(),True),\n",
    "                     StructField(\"SOC_NAME\",StringType(),True),\n",
    "                     StructField(\"JOB_TITLE\",StringType(),True),\n",
    "                     StructField(\"FULL_TIME_POSITION\",StringType(),True),\n",
    "                     StructField(\"PREVAILING_WAGE\",IntegerType(),True),\n",
    "                     StructField(\"YEAR\",IntegerType(),True),\n",
    "                     StructField(\"WORKSITE\",StringType(),True),\n",
    "                     StructField(\"lon\",StringType(),True),\n",
    "                     StructField(\"lat\",StringType(),True)])\n",
    "\n",
    "raw_data = SQLContext(sc).read.schema(schema).option('header', 'true').csv('/Users/didi/Documents/Telecom/MDI701/Projet/h1b_kaggle.csv')"
   ]
  },
  {
   "cell_type": "markdown",
   "metadata": {},
   "source": [
    "#  Data schema"
   ]
  },
  {
   "cell_type": "code",
   "execution_count": 4,
   "metadata": {},
   "outputs": [
    {
     "name": "stdout",
     "output_type": "stream",
     "text": [
      "root\n",
      " |-- No: integer (nullable = true)\n",
      " |-- CASE_STATUS: string (nullable = true)\n",
      " |-- EMPLOYER_NAME: string (nullable = true)\n",
      " |-- SOC_NAME: string (nullable = true)\n",
      " |-- JOB_TITLE: string (nullable = true)\n",
      " |-- FULL_TIME_POSITION: string (nullable = true)\n",
      " |-- PREVAILING_WAGE: integer (nullable = true)\n",
      " |-- YEAR: integer (nullable = true)\n",
      " |-- WORKSITE: string (nullable = true)\n",
      " |-- lon: string (nullable = true)\n",
      " |-- lat: string (nullable = true)\n",
      "\n"
     ]
    }
   ],
   "source": [
    "raw_data.printSchema()"
   ]
  },
  {
   "cell_type": "markdown",
   "metadata": {},
   "source": [
    "**The meaning of the columns are as follows:**\n",
    "\n",
    "**X1** - not named column, it is the id of the row;\n",
    "<br>\n",
    "**CASE_STATUS** - status of the application;\n",
    "<br>\n",
    "**EMPLOYER_NAME** - the name of the employer as registered in the H-1B Visa application;\n",
    "<br>\n",
    "**SOC_NAME** - the occupation code for the employment;\n",
    "<br>\n",
    "**JOB_TITLE** - the job title for the employment;\n",
    "<br>\n",
    "**FULL_TIME_POSITION** - whether the application is for a full-time position of for a part-time position;\n",
    "<br>\n",
    "**PREVAILING_WAGE** - the most frequent wage for the corresponding role as filled in the Visa application;\n",
    "<br>\n",
    "**YEAR** - the application year;\n",
    "<br>\n",
    "**WORKSITE** - the address of the employer worksite;\n",
    "<br>\n",
    "**lon** - longitude of the employer worksite;\n",
    "<br>\n",
    "**lat** - latitude of the employer worksite;"
   ]
  },
  {
   "cell_type": "markdown",
   "metadata": {},
   "source": [
    "# Data cleaning"
   ]
  },
  {
   "cell_type": "markdown",
   "metadata": {},
   "source": [
    "Identify and remove error data, in order to create a reliable dataset. This improves the quality of the training data and the training model."
   ]
  },
  {
   "cell_type": "code",
   "execution_count": 5,
   "metadata": {},
   "outputs": [],
   "source": [
    "#replace the detail address by states because each state has the same law\n",
    "data = raw_data.withColumn(\"WORKSITE\", split(raw_data['WORKSITE'], \",\")[1])\n",
    "\n",
    "#round the longtitude and altitude\n",
    "data = data.withColumn(\"lat\", func.round(data[\"lat\"]))\n",
    "data = data.withColumn(\"lon\", func.round(data[\"lon\"]))\n",
    "\n",
    "#drop rows with CASE_STATUS null\n",
    "data = data.filter(\"CASE_STATUS != 'NA'\")\n",
    "\n",
    "#drop rows with FULL_TIME_POSITION out of range\n",
    "data = data.filter(data.FULL_TIME_POSITION.isin(\"Y\", \"N\"))\n",
    "\n",
    "#ignore wage under 10000 per year which is very probable wrong data\n",
    "data= data.filter(\"PREVAILING_WAGE > 10000\")\n",
    "\n",
    "#drop rows with YEAR in the future\n",
    "data = data.filter(\"YEAR < '2020'\")"
   ]
  },
  {
   "cell_type": "markdown",
   "metadata": {},
   "source": [
    "# Data Analysis"
   ]
  },
  {
   "cell_type": "markdown",
   "metadata": {},
   "source": [
    "To exploit and understand the data better."
   ]
  },
  {
   "cell_type": "markdown",
   "metadata": {},
   "source": [
    "## Graphical analysis"
   ]
  },
  {
   "cell_type": "markdown",
   "metadata": {},
   "source": [
    "### Distribution of case status"
   ]
  },
  {
   "cell_type": "code",
   "execution_count": 6,
   "metadata": {},
   "outputs": [
    {
     "data": {
      "image/png": "[encoded data removed]",
      "text/plain": [
       "<Figure size 432x288 with 1 Axes>"
      ]
     },
     "metadata": {
      "needs_background": "light"
     },
     "output_type": "display_data"
    }
   ],
   "source": [
    "casestatus = data.filter(data.CASE_STATUS.isNotNull()).groupby(\"CASE_STATUS\").count().sort(\"count\", ascending = False)\n",
    "casestatus = casestatus.toPandas()\n",
    "casestatus.plot.bar('CASE_STATUS')\n",
    "plt.show()"
   ]
  },
  {
   "cell_type": "markdown",
   "metadata": {},
   "source": [
    "### Applications by job titles"
   ]
  },
  {
   "cell_type": "code",
   "execution_count": 7,
   "metadata": {},
   "outputs": [
    {
     "data": {
      "image/png": "[encoded data removed]",
      "text/plain": [
       "<Figure size 432x288 with 1 Axes>"
      ]
     },
     "metadata": {
      "needs_background": "light"
     },
     "output_type": "display_data"
    }
   ],
   "source": [
    "jobtitle = data.select(\"JOB_TITLE\").groupBy(\"JOB_TITLE\").count().sort(\"count\", ascending = False).limit(10)\n",
    "jobtitle = jobtitle.toPandas()\n",
    "jobtitle.plot.bar('JOB_TITLE')\n",
    "plt.show()"
   ]
  },
  {
   "cell_type": "markdown",
   "metadata": {},
   "source": [
    "### Prevailing wage"
   ]
  },
  {
   "cell_type": "code",
   "execution_count": 30,
   "metadata": {},
   "outputs": [
    {
     "name": "stdout",
     "output_type": "stream",
     "text": [
      "We can observe that the average wage is between 60000 and 70000 dollars.\n"
     ]
    },
    {
     "data": {
      "image/png": "[encoded data removed]",
      "text/plain": [
       "<Figure size 432x288 with 1 Axes>"
      ]
     },
     "metadata": {
      "needs_background": "light"
     },
     "output_type": "display_data"
    }
   ],
   "source": [
    "wage = data.select(\"PREVAILING_WAGE\").groupBy(\"PREVAILING_WAGE\").count().sort(\"count\", ascending = False).limit(1000)\n",
    "wage = wage.toPandas()\n",
    "p_, ax = plt.subplots()\n",
    "ax.hist(wage['PREVAILING_WAGE'], bins=100, facecolor='lightblue', edgecolor='w')\n",
    "ax.set_xlabel(\"Prevailing wage\")\n",
    "ax.set_ylabel('Number of applications')\n",
    "plt.xlim([10000, 180000])\n",
    "ax.spines['top'].set_visible(False)\n",
    "ax.spines['right'].set_visible(False)\n",
    "print(\"We can observe that the average wage is between 60000 and 70000 dollars.\")"
   ]
  },
  {
   "cell_type": "markdown",
   "metadata": {},
   "source": [
    "### Applications grouped by employer names"
   ]
  },
  {
   "cell_type": "code",
   "execution_count": 9,
   "metadata": {},
   "outputs": [
    {
     "data": {
      "image/png": "[encoded data removed]",
      "text/plain": [
       "<Figure size 432x288 with 1 Axes>"
      ]
     },
     "metadata": {
      "needs_background": "light"
     },
     "output_type": "display_data"
    }
   ],
   "source": [
    "employer = data.select(\"EMPLOYER_NAME\").groupBy(\"EMPLOYER_NAME\").count().sort(\"count\", ascending = False).limit(10)\n",
    "employer = employer.toPandas()\n",
    "employer.plot.bar('EMPLOYER_NAME')\n",
    "plt.show()"
   ]
  },
  {
   "cell_type": "markdown",
   "metadata": {},
   "source": [
    "## Numerical Analysis"
   ]
  },
  {
   "cell_type": "markdown",
   "metadata": {},
   "source": [
    "### Wage statistical analysis"
   ]
  },
  {
   "cell_type": "code",
   "execution_count": 10,
   "metadata": {},
   "outputs": [
    {
     "name": "stdout",
     "output_type": "stream",
     "text": [
      "Statistics for H1-B Visa Applications:\n",
      "\n",
      "Minimum wage: $35,838.00\n",
      "Maximum wage: $187,200.00\n",
      "Mean wage: $66,651.60\n",
      "Median wage $63,679.50\n",
      "Standard deviation of wage: $16,448.64\n"
     ]
    }
   ],
   "source": [
    "print(\"Statistics for H1-B Visa Applications:\\n\")\n",
    "print(\"Minimum wage: ${:,.2f}\".format(min(wage['PREVAILING_WAGE'])))\n",
    "print(\"Maximum wage: ${:,.2f}\".format(max(wage['PREVAILING_WAGE'])))\n",
    "print(\"Mean wage: ${:,.2f}\".format(np.mean(wage['PREVAILING_WAGE'])))\n",
    "print(\"Median wage ${:,.2f}\".format(np.median(wage['PREVAILING_WAGE'])))\n",
    "print(\"Standard deviation of wage: ${:,.2f}\".format(np.std(wage['PREVAILING_WAGE'])))"
   ]
  },
  {
   "cell_type": "markdown",
   "metadata": {},
   "source": [
    "# Logistic Regression"
   ]
  },
  {
   "cell_type": "markdown",
   "metadata": {},
   "source": [
    "Logistic Regression is used in the situation where data is in large scale, contains multiple category variables, and label contains 2 values. Which is perfect for our case."
   ]
  },
  {
   "cell_type": "markdown",
   "metadata": {},
   "source": [
    "## Modeling"
   ]
  },
  {
   "cell_type": "markdown",
   "metadata": {},
   "source": [
    "The training model is LogisticRegression. Before fitting, the string data needs to be converted into index, and the numerical data needs to be standarized. If one of the features has a big range of values, the distance will be governed by this particular feature. Therefore, the range of all features should be normalized so that each feature contributes approximately proportionately to the final distance. The standarization helps also to accelerate the gradient descent."
   ]
  },
  {
   "cell_type": "code",
   "execution_count": 13,
   "metadata": {},
   "outputs": [
    {
     "name": "stdout",
     "output_type": "stream",
     "text": [
      "+--------------------+----------+-----+\n",
      "|            features|prediction|label|\n",
      "+--------------------+----------+-----+\n",
      "|[59.0,53.0,132.0,...|       1.0|    0|\n",
      "|[37390.0,194.0,42...|       1.0|    0|\n",
      "|[7466.0,194.0,130...|       1.0|    0|\n",
      "|[39826.0,194.0,38...|       1.0|    0|\n",
      "|[78257.0,194.0,30...|       1.0|    0|\n",
      "|[82341.0,194.0,30...|       1.0|    0|\n",
      "|[10858.0,194.0,53...|       1.0|    0|\n",
      "|[145251.0,194.0,4...|       1.0|    0|\n",
      "|[36635.0,194.0,37...|       1.0|    0|\n",
      "|[1651.0,90.0,201....|       1.0|    0|\n",
      "|[209.0,90.0,2905....|       1.0|    0|\n",
      "|[113572.0,90.0,21...|       1.0|    0|\n",
      "|[12713.0,90.0,310...|       1.0|    0|\n",
      "|[4267.0,90.0,2194...|       1.0|    0|\n",
      "|[14222.0,90.0,219...|       1.0|    0|\n",
      "|[148312.0,90.0,70...|       1.0|    0|\n",
      "|[117617.0,90.0,60...|       1.0|    0|\n",
      "|[173742.0,90.0,80...|       1.0|    0|\n",
      "|[175588.0,90.0,43...|       1.0|    0|\n",
      "|[75571.0,90.0,441...|       1.0|    0|\n",
      "+--------------------+----------+-----+\n",
      "only showing top 20 rows\n",
      "\n"
     ]
    }
   ],
   "source": [
    "from pyspark.ml.feature import StringIndexer, VectorIndexer\n",
    "from pyspark.ml import Pipeline\n",
    "from pyspark.ml.classification import LogisticRegression\n",
    "from pyspark.sql import functions as F\n",
    "from pyspark.ml.feature import MinMaxScaler\n",
    "\n",
    "#we consider the status has 2 main categories - certified (label = 1) and not certified (label = 0)\n",
    "data = data.withColumn(\"label\", F.when(data.CASE_STATUS.isin(\"CERTIFIED\"),1).otherwise(0))\n",
    "\n",
    "#rearrange columns place in order to facilite indexe\n",
    "data_lr = data.select(\"label\",\"CASE_STATUS\", \"No\", \"PREVAILING_WAGE\", \"YEAR\", \"EMPLOYER_NAME\", \"SOC_NAME\", \"JOB_TITLE\", \"FULL_TIME_POSITION\", \"WORKSITE\")\n",
    "\n",
    "#split the data by train and test\n",
    "train, test = data_lr.randomSplit([0.7, 0.3])\n",
    "\n",
    "#create index for assembled string values\n",
    "indexer1 = StringIndexer(inputCol = \"EMPLOYER_NAME\", outputCol = \"EMPLOYER_NAME_idx\",handleInvalid=\"keep\")\n",
    "indexer2 = StringIndexer(inputCol = \"SOC_NAME\", outputCol = \"SOC_NAME_idx\",handleInvalid='keep')\n",
    "indexer3 = StringIndexer(inputCol = \"JOB_TITLE\", outputCol = \"JOB_TITLE_idx\",handleInvalid='keep')\n",
    "indexer4 = StringIndexer(inputCol = \"FULL_TIME_POSITION\", outputCol = \"FULL_TIME_POSITION_idx\",handleInvalid='keep')\n",
    "indexer5 = StringIndexer(inputCol = \"WORKSITE\", outputCol = \"WORKSITE_idx\",handleInvalid='keep')\n",
    "\n",
    "#combines categorical features into a single vector\n",
    "catVect = VectorAssembler(inputCols = [\"EMPLOYER_NAME_idx\", \"SOC_NAME_idx\", \"JOB_TITLE_idx\", \"FULL_TIME_POSITION_idx\", \"WORKSITE_idx\"], outputCol=\"catFeatures\")\n",
    "#creates indexes for a vector of categorical features\n",
    "catIdx = VectorIndexer(inputCol = catVect.getOutputCol(), outputCol = \"idxCatFeatures\")\n",
    "\n",
    "#combines numerical features into a single vector\n",
    "numVect = VectorAssembler(inputCols = [\"PREVAILING_WAGE\", \"YEAR\"], outputCol=\"numFeatures\")\n",
    "#standardize PREVAILING_WAGE and YEAR for weight input\n",
    "minMax = MinMaxScaler(inputCol = numVect.getOutputCol(), outputCol=\"normFeatures\")\n",
    "\n",
    "#combines categorical and numerical features into final feature\n",
    "featVect = VectorAssembler(inputCols=[\"idxCatFeatures\", \"normFeatures\"], outputCol=\"features\")\n",
    "\n",
    "#initiate logistic regression parametres\n",
    "lr = LogisticRegression(labelCol=\"label\",featuresCol=\"features\",maxIter=10, regParam=0.3)\n",
    "\n",
    "#build a pipeline\n",
    "pipeline = Pipeline(stages=[indexer1, indexer2, indexer3, indexer4, indexer5, catVect, catIdx,numVect,minMax, featVect,lr ])\n",
    "\n",
    "#train and test the lr model\n",
    "prediction = pipeline.fit(train).transform(test)\n",
    "#show predictions and labels\n",
    "predicted = prediction.select(\"features\", \"prediction\", \"label\").show()"
   ]
  },
  {
   "cell_type": "markdown",
   "metadata": {},
   "source": [
    "## Result"
   ]
  },
  {
   "cell_type": "markdown",
   "metadata": {},
   "source": [
    "4 class of label and prediction (true positive, true negative, false positive, false negative). Here we observe that the prediction predicts more label 1 than the reel label. However, this doesn't have much impact on presicion score, because the label 1 is the majority in the dataset. "
   ]
  },
  {
   "cell_type": "code",
   "execution_count": 14,
   "metadata": {},
   "outputs": [
    {
     "name": "stdout",
     "output_type": "stream",
     "text": [
      "+-----+----------+------+\n",
      "|label|prediction| count|\n",
      "+-----+----------+------+\n",
      "|    1|       0.0|     1|\n",
      "|    0|       0.0|    62|\n",
      "|    1|       1.0|735430|\n",
      "|    0|       1.0|106021|\n",
      "+-----+----------+------+\n",
      "\n"
     ]
    }
   ],
   "source": [
    "prediction.groupBy(\"label\", \"prediction\").count().show()"
   ]
  },
  {
   "cell_type": "code",
   "execution_count": 15,
   "metadata": {},
   "outputs": [
    {
     "name": "stdout",
     "output_type": "stream",
     "text": [
      "+---------+------------------+\n",
      "|   metric|             value|\n",
      "+---------+------------------+\n",
      "|       TP|          735430.0|\n",
      "|       FP|          106021.0|\n",
      "|       TN|              62.0|\n",
      "|       FN|               1.0|\n",
      "|Precision|0.8740021700610018|\n",
      "|   Recall|0.9999986402531305|\n",
      "|       F1|0.9327647851900142|\n",
      "+---------+------------------+\n",
      "\n"
     ]
    }
   ],
   "source": [
    "tp = float(prediction.filter(\"prediction == 1.0 AND label == 1\").count())\n",
    "fp = float(prediction.filter(\"prediction == 1.0 AND label == 0\").count())\n",
    "tn = float(prediction.filter(\"prediction == 0.0 AND label == 0\").count())\n",
    "fn = float(prediction.filter(\"prediction == 0.0 AND label == 1\").count())\n",
    "pr = tp / (tp + fp)\n",
    "re = tp / (tp + fn)\n",
    "metrics = SQLContext(sc).createDataFrame([\n",
    " (\"TP\", tp),\n",
    " (\"FP\", fp),\n",
    " (\"TN\", tn),\n",
    " (\"FN\", fn),\n",
    " (\"Precision\", pr),\n",
    " (\"Recall\", re),\n",
    " (\"F1\", 2*pr*re/(re+pr))],[\"metric\", \"value\"])\n",
    "metrics.show()\n",
    "print(\"The precision score is quite good.\")"
   ]
  },
  {
   "cell_type": "markdown",
   "metadata": {},
   "source": [
    "## Review the Area Under ROC¶"
   ]
  },
  {
   "cell_type": "markdown",
   "metadata": {},
   "source": [
    "The ROC (Receiver Operating Characteristic) method can also evaluate the performance of a classification model. \n",
    "<br>\n",
    "Bigger the area under a ROC curve for the model, better the model is."
   ]
  },
  {
   "cell_type": "code",
   "execution_count": 18,
   "metadata": {},
   "outputs": [
    {
     "name": "stdout",
     "output_type": "stream",
     "text": [
      "Area under ROC is : 0.573608768952961\n",
      "\n"
     ]
    }
   ],
   "source": [
    "from pyspark.ml.evaluation import BinaryClassificationEvaluator\n",
    "evaluator = BinaryClassificationEvaluator(labelCol=\"label\", rawPredictionCol=\"rawPrediction\", metricName=\"areaUnderROC\")\n",
    "area = evaluator.evaluate(prediction)\n",
    "print (\"Area under ROC is :\", area)\n",
    "print()"
   ]
  },
  {
   "cell_type": "markdown",
   "metadata": {},
   "source": [
    "# CrossValidation and Hyper Parameter Tuning"
   ]
  },
  {
   "cell_type": "markdown",
   "metadata": {},
   "source": [
    "CrossValidator helps to find the best parameter combinaisions for the best result. The parameters are segmented in ParameterGrid then inserted into CrossValidator. The parameters take part into the training process which is defined as estimator in the CrossValidator."
   ]
  },
  {
   "cell_type": "markdown",
   "metadata": {},
   "source": [
    "## Modeling"
   ]
  },
  {
   "cell_type": "code",
   "execution_count": 19,
   "metadata": {},
   "outputs": [],
   "source": [
    "from pyspark.ml.tuning import CrossValidator, ParamGridBuilder\n",
    "\n",
    "grid = ParamGridBuilder() \\\n",
    "    .addGrid(lr.maxIter, [5, 10, 15]) \\\n",
    "    .addGrid(lr.regParam, [0.1, 0.3, 0.5]) \\\n",
    "    .build()\n",
    "\n",
    "#initiate a CrossValidator \n",
    "cv = CrossValidator(estimator=pipeline,\n",
    "                          estimatorParamMaps=grid,\n",
    "                          evaluator=BinaryClassificationEvaluator(),\n",
    "                          numFolds=4,\n",
    "                          parallelism=2)\n",
    "\n",
    "\n",
    "cvModel = cv.fit(train)\n",
    "prediction_cv = cvModel.transform(test)\n",
    "predicted_cv = prediction.select(\"features\", \"prediction\", \"label\")"
   ]
  },
  {
   "cell_type": "markdown",
   "metadata": {},
   "source": [
    "## Results"
   ]
  },
  {
   "cell_type": "code",
   "execution_count": 22,
   "metadata": {},
   "outputs": [
    {
     "name": "stdout",
     "output_type": "stream",
     "text": [
      "+-----+----------+------+\n",
      "|label|prediction| count|\n",
      "+-----+----------+------+\n",
      "|    1|       0.0|     1|\n",
      "|    0|       0.0|    19|\n",
      "|    1|       1.0|735430|\n",
      "|    0|       1.0|106064|\n",
      "+-----+----------+------+\n",
      "\n"
     ]
    }
   ],
   "source": [
    "prediction_cv.groupBy(\"label\", \"prediction\").count().show()"
   ]
  },
  {
   "cell_type": "code",
   "execution_count": 20,
   "metadata": {},
   "outputs": [
    {
     "name": "stdout",
     "output_type": "stream",
     "text": [
      "+---------+------------------+\n",
      "|   metric|             value|\n",
      "+---------+------------------+\n",
      "|       TP|          735430.0|\n",
      "|       FP|          106064.0|\n",
      "|       TN|              19.0|\n",
      "|       FN|               1.0|\n",
      "|Precision|0.8739575089067777|\n",
      "|   Recall|0.9999986402531305|\n",
      "|       F1|0.9327393503178655|\n",
      "+---------+------------------+\n",
      "\n"
     ]
    }
   ],
   "source": [
    "tp_cv = float(prediction_cv.filter(\"prediction == 1.0 AND label == 1\").count())\n",
    "fp_cv = float(prediction_cv.filter(\"prediction == 1.0 AND label == 0\").count())\n",
    "tn_cv = float(prediction_cv.filter(\"prediction == 0.0 AND label == 0\").count())\n",
    "fn_cv = float(prediction_cv.filter(\"prediction == 0.0 AND label == 1\").count())\n",
    "pr_cv = tp_cv / (tp_cv + fp_cv)\n",
    "re_cv = tp_cv / (tp_cv + fn_cv)\n",
    "metrics_cv = SQLContext(sc).createDataFrame([\n",
    " (\"TP\", tp_cv),\n",
    " (\"FP\", fp_cv),\n",
    " (\"TN\", tn_cv),\n",
    " (\"FN\", fn_cv),\n",
    " (\"Precision\", pr_cv),\n",
    " (\"Recall\", re_cv),\n",
    " (\"F1\", 2*pr_cv*re_cv/(re_cv+pr_cv))],[\"metric\", \"value\"])\n",
    "metrics_cv.show()\n",
    "print(\"Cross Validation has a better model precision.\")"
   ]
  },
  {
   "cell_type": "markdown",
   "metadata": {},
   "source": [
    "## Review the Area of ROC"
   ]
  },
  {
   "cell_type": "code",
   "execution_count": 32,
   "metadata": {},
   "outputs": [
    {
     "name": "stdout",
     "output_type": "stream",
     "text": [
      "Area under ROC is : 0.5000888726467617\n",
      "Even the precision score is good, the Area under ROC is not good enough. This might caught by too much data in one class and not enough in the other. So that model tends to predict into the bigger class to have a better performance. However, we can see that this impacts on the ROC performance a lot.\n"
     ]
    }
   ],
   "source": [
    "evaluator_cv = BinaryClassificationEvaluator(labelCol=\"label\", rawPredictionCol=\"prediction\", metricName=\"areaUnderROC\")\n",
    "area_cv = evaluator_cv.evaluate(prediction_cv)\n",
    "print( \"Area under ROC is :\", area_cv)\n",
    "print(\"Even the precision score is good, the Area under ROC is not good enough. This might caught by too much data in one class and not enough in the other. So that model tends to predict into the bigger class to have a better performance. However, we can see that this impacts on the ROC performance a lot.\")"
   ]
  }
 ],
 "metadata": {
  "kernelspec": {
   "display_name": "Python 3",
   "language": "python",
   "name": "python3"
  },
  "language_info": {
   "codemirror_mode": {
    "name": "ipython",
    "version": 3
   },
   "file_extension": ".py",
   "mimetype": "text/x-python",
   "name": "python",
   "nbconvert_exporter": "python",
   "pygments_lexer": "ipython3",
   "version": "3.7.3"
  },
  "toc": {
   "base_numbering": 1,
   "nav_menu": {},
   "number_sections": true,
   "sideBar": true,
   "skip_h1_title": false,
   "title_cell": "Table of Contents",
   "title_sidebar": "Contents",
   "toc_cell": false,
   "toc_position": {
    "height": "calc(100% - 180px)",
    "left": "10px",
    "top": "150px",
    "width": "165px"
   },
   "toc_section_display": true,
   "toc_window_display": true
  }
 },
 "nbformat": 4,
 "nbformat_minor": 2
}
