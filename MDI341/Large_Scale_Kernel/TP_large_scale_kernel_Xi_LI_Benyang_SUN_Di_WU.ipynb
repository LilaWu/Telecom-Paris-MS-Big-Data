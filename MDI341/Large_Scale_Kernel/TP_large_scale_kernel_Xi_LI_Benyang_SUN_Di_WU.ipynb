{
  "nbformat": 4,
  "nbformat_minor": 0,
  "metadata": {
    "kernelspec": {
      "display_name": "Python 3",
      "language": "python",
      "name": "python3"
    },
    "language_info": {
      "codemirror_mode": {
        "name": "ipython",
        "version": 3
      },
      "file_extension": ".py",
      "mimetype": "text/x-python",
      "name": "python",
      "nbconvert_exporter": "python",
      "pygments_lexer": "ipython3",
      "version": "3.7.4"
    },
    "colab": {
      "name": "TP_large_scale_kernel.ipynb",
      "provenance": [],
      "collapsed_sections": [],
      "toc_visible": true
    }
  },
  "cells": [
    {
      "cell_type": "markdown",
      "metadata": {
        "id": "0-ZiYbLB6rg9",
        "colab_type": "text"
      },
      "source": [
        "# TP Large Scale Kernel Methods"
      ]
    },
    {
      "cell_type": "markdown",
      "metadata": {
        "id": "TSo9vYQKox-L",
        "colab_type": "text"
      },
      "source": [
        "<strong>Introduction</strong>: \n",
        "\n",
        "Large scale methode is a way to transform X into special forms with needs, in order to seperate data linearly. Large Scale Kernel Methodes are usually used with SVM methode.\n"
      ]
    },
    {
      "cell_type": "markdown",
      "metadata": {
        "id": "X7UMZJgNRTNR",
        "colab_type": "text"
      },
      "source": [
        "Group members:\n",
        "- Xi LI\n",
        "- Benyang SUN\n",
        "- Di WU"
      ]
    },
    {
      "cell_type": "code",
      "metadata": {
        "id": "pfo597GU6rhA",
        "colab_type": "code",
        "colab": {}
      },
      "source": [
        "import numpy as np\n",
        "from scipy import linalg\n",
        "import matplotlib.pyplot as plt\n",
        "plt.style.use('ggplot')\n",
        "\n",
        "from sklearn.model_selection import train_test_split\n",
        "from sklearn.preprocessing import StandardScaler\n",
        "from sklearn.datasets import load_svmlight_file\n",
        "import time"
      ],
      "execution_count": 0,
      "outputs": []
    },
    {
      "cell_type": "markdown",
      "metadata": {
        "id": "oMZBfi4T6rhG",
        "colab_type": "text"
      },
      "source": [
        "## Chargement et partitionnement des données"
      ]
    },
    {
      "cell_type": "code",
      "metadata": {
        "id": "t-yR9K766rhI",
        "colab_type": "code",
        "outputId": "abc0e35b-ab6e-4073-87b9-aae8abf4558d",
        "colab": {
          "base_uri": "https://localhost:8080/",
          "height": 68
        }
      },
      "source": [
        "###############################################################################\n",
        "# Requires file ijcnn1.dat.gz to be present in the directory\n",
        "\n",
        "dataset_path = './ijcnn1.dat'\n",
        "ijcnn1 = load_svmlight_file(dataset_path)\n",
        "X = ijcnn1[0].todense()\n",
        "y = ijcnn1[1]\n",
        "\n",
        "###############################################################################\n",
        "# Extract features\n",
        "\n",
        "X_train, X_test, y_train, y_test = train_test_split(X[:60000, :], y[:60000],\n",
        "                     train_size=20000, random_state=42)\n",
        "\n",
        "scaler = StandardScaler()\n",
        "X_train = scaler.fit_transform(X_train)\n",
        "X_test = scaler.transform(X_test)\n",
        "\n",
        "n1, p = X_train.shape\n",
        "n2 = X_test.shape[0]\n",
        "\n",
        "print(\"Nombre d'exemples d'apprentissage:\", n1)\n",
        "print(\"Nombre d'exemples de test:\", n2)\n",
        "print(\"Nombre de features:\", p)"
      ],
      "execution_count": 0,
      "outputs": [
        {
          "output_type": "stream",
          "text": [
            "Nombre d'exemples d'apprentissage: 20000\n",
            "Nombre d'exemples de test: 40000\n",
            "Nombre de features: 22\n"
          ],
          "name": "stdout"
        }
      ]
    },
    {
      "cell_type": "markdown",
      "metadata": {
        "id": "jDCSrOne6rhO",
        "colab_type": "text"
      },
      "source": [
        "## Question 1"
      ]
    },
    {
      "cell_type": "markdown",
      "metadata": {
        "id": "CCfaxNxn6rhP",
        "colab_type": "text"
      },
      "source": [
        "On va fitter nos données d'apprentissage avec un SVM linéaire et un SVM non-linéaire (noyau Gaussien) pour comparer leur score de prédiction ainsi que le temps de calcul nécessaire à l'apprentissage et à la prédiction."
      ]
    },
    {
      "cell_type": "code",
      "metadata": {
        "id": "w65TG7GU6rhR",
        "colab_type": "code",
        "outputId": "2f88d471-3602-4839-89c8-7b627b741e46",
        "colab": {
          "base_uri": "https://localhost:8080/",
          "height": 102
        }
      },
      "source": [
        "from sklearn.svm import SVC, LinearSVC\n",
        "from time import time\n",
        "\n",
        "print(\"Fitting SVC rbf on %d samples...\" % X_train.shape[0])\n",
        "t0 = time()\n",
        "# TODO\n",
        "clf = SVC(kernel='rbf')\n",
        "clf.fit(X_train,y_train)\n",
        "print(\"done in %0.3fs\" % (time() - t0))\n",
        "\n",
        "print(\"Predicting with SVC rbf on %d samples...\" % X_test.shape[0])\n",
        "t1 = time()\n",
        "# TODO\n",
        "accuracy_kernel = clf.score(X_test,y_test)\n",
        "print(\"done in %0.3fs\" % (time() - t1))\n",
        "timing_kernel = time() - t0\n",
        "print(\"classification accuracy: %0.3f\" % accuracy_kernel)\n",
        "\n",
        "# TODO same for LinearSVC\n",
        "\n",
        "# timing_linear = "
      ],
      "execution_count": 0,
      "outputs": [
        {
          "output_type": "stream",
          "text": [
            "Fitting SVC rbf on 20000 samples...\n",
            "done in 4.308s\n",
            "Predicting with SVC rbf on 40000 samples...\n",
            "done in 5.127s\n",
            "classification accuracy: 0.980\n"
          ],
          "name": "stdout"
        }
      ]
    },
    {
      "cell_type": "code",
      "metadata": {
        "id": "-PSfN1a76rhW",
        "colab_type": "code",
        "outputId": "5da3e018-1cb1-457b-8954-8d3e97aa57fd",
        "colab": {
          "base_uri": "https://localhost:8080/",
          "height": 102
        }
      },
      "source": [
        "print(\"Fitting LinearSVC on %d samples...\" % X_train.shape[0])\n",
        "t0 = time()\n",
        "# TODO\n",
        "clf = LinearSVC(dual=False)\n",
        "clf.fit(X_train,y_train)\n",
        "print(\"done in %0.3fs\" % (time() - t0))\n",
        "\n",
        "print(\"Predicting with LinearSVC on %d samples...\" % X_test.shape[0])\n",
        "t1 = time()\n",
        "# TODO\n",
        "accuracy_kernel = clf.score(X_test,y_test)\n",
        "print(\"done in %0.3fs\" % (time() - t1))\n",
        "timing_kernel = time() - t0\n",
        "print(\"classification accuracy: %0.3f\" % accuracy_kernel)"
      ],
      "execution_count": 0,
      "outputs": [
        {
          "output_type": "stream",
          "text": [
            "Fitting LinearSVC on 20000 samples...\n",
            "done in 0.065s\n",
            "Predicting with LinearSVC on 40000 samples...\n",
            "done in 0.010s\n",
            "classification accuracy: 0.917\n"
          ],
          "name": "stdout"
        }
      ]
    },
    {
      "cell_type": "markdown",
      "metadata": {
        "id": "GEjWy6SsqafA",
        "colab_type": "text"
      },
      "source": [
        "<strong>Obervation: </strong>\n",
        "- For Training and Prediction : LinearSVC is much faster than SVC with RBF kernel.\n",
        "- For Classification Accuracy : SVC with RBF kernel is better than LinearSVC.\n",
        "\n",
        "<strong>Conclusion: </strong>\n",
        "- LinearSVC is faster, but SVC with RBF kernel is more accurate."
      ]
    },
    {
      "cell_type": "markdown",
      "metadata": {
        "id": "bHraUz2S6rhb",
        "colab_type": "text"
      },
      "source": [
        "## Question 2"
      ]
    },
    {
      "cell_type": "markdown",
      "metadata": {
        "id": "-pZlZat96rhd",
        "colab_type": "text"
      },
      "source": [
        "On code une fonction qui calcule la meilleure approximation de rang $k$."
      ]
    },
    {
      "cell_type": "code",
      "metadata": {
        "id": "YjaChhK36rhf",
        "colab_type": "code",
        "colab": {}
      },
      "source": [
        "from scipy.sparse.linalg import svds\n",
        "from scipy.linalg import svd\n",
        "\n",
        "def rank_trunc(gram_mat, k, fast=True):\n",
        "    \"\"\"\n",
        "    k-th order approximation of the Gram Matrix G.\n",
        "\n",
        "    Parameters\n",
        "    ----------\n",
        "    gram_mat : array, shape (n_samples, n_samples)\n",
        "        the Gram matrix\n",
        "    k : int\n",
        "        the order approximation\n",
        "    fast : bool\n",
        "        use svd (if False) or svds (if True).\n",
        "\n",
        "    Return\n",
        "    ------\n",
        "    gram_mat_k : array, shape (n_samples, n_samples)\n",
        "        The rank k Gram matrix.\n",
        "    \"\"\"\n",
        "    if fast:\n",
        "        u, s, vt = svds(gram_mat,k=k)\n",
        "        gram_mat_k = np.dot(u, np.dot(np.diag(s), vt))\n",
        "    else:\n",
        "        u, s, vt = svd(gram_mat)\n",
        "        gram_mat_k = np.dot(u[:,:k], np.dot(np.diag(s[:k]), vt[:k,:]))\n",
        "\n",
        "    return gram_mat_k\n"
      ],
      "execution_count": 0,
      "outputs": []
    },
    {
      "cell_type": "markdown",
      "metadata": {
        "id": "xpNpwhFz6rhk",
        "colab_type": "text"
      },
      "source": [
        "## Question 3"
      ]
    },
    {
      "cell_type": "markdown",
      "metadata": {
        "id": "mAUi1rLm6rhl",
        "colab_type": "text"
      },
      "source": [
        "On applique cette fonction sur la matrice décrite dans le sujet de TP."
      ]
    },
    {
      "cell_type": "code",
      "metadata": {
        "id": "_6U2tqrE6rhm",
        "colab_type": "code",
        "colab": {}
      },
      "source": [
        "from numpy.linalg import norm\n",
        "\n",
        "p = 200\n",
        "r_noise = 100\n",
        "r_signal = 20\n",
        "\n",
        "intensity = 50\n",
        "\n",
        "rng = np.random.RandomState(42)\n",
        "X_noise = rng.randn(r_noise, p)\n",
        "X_signal = rng.randn(r_signal, p)\n",
        "\n",
        "gram_signal = np.dot(X_noise.T, X_noise) + intensity * np.dot(X_signal.T,\n",
        "                                                              X_signal)\n",
        "n_ranks = 100\n",
        "ranks = np.arange(1, n_ranks + 1)\n",
        "timing_fast = np.zeros(n_ranks)\n",
        "timing_slow = np.zeros(n_ranks)\n",
        "rel_error = np.zeros(n_ranks)\n",
        "\n",
        "for k, rank in enumerate(ranks):\n",
        "    #print(k, rank)\n",
        "    t0 = time()\n",
        "    gram_mat_k = rank_trunc(gram_signal, rank, fast=True)\n",
        "    timing_fast[k] = time() - t0\n",
        "\n",
        "    t0 = time()\n",
        "    gram_mat_k = rank_trunc(gram_signal, rank, fast=False)\n",
        "    timing_slow[k] = time() - t0\n",
        "\n",
        "    # TODO: compute relative error with Frobenius norm\n",
        "    rel_error[k] = norm(gram_mat_k - gram_signal, ord='fro') / norm(gram_signal, ord='fro')"
      ],
      "execution_count": 0,
      "outputs": []
    },
    {
      "cell_type": "code",
      "metadata": {
        "id": "bfgBY-WE6rhr",
        "colab_type": "code",
        "outputId": "9587aae5-f0ab-4647-f027-039833f3b862",
        "colab": {
          "base_uri": "https://localhost:8080/",
          "height": 441
        }
      },
      "source": [
        "###############################################################################\n",
        "# Display\n",
        "\n",
        "f, axes = plt.subplots(ncols=1, nrows=2, figsize=(10,6))\n",
        "ax1, ax2 = axes.ravel()\n",
        "\n",
        "ax1.plot(ranks, timing_fast, '-', label='fast')\n",
        "ax1.plot(ranks, timing_slow, '-', label='slow')\n",
        "ax1.legend()\n",
        "\n",
        "ax1.set_xlabel('Rank')\n",
        "ax1.set_ylabel('Time')\n",
        "ax2.plot(ranks, rel_error, '-')\n",
        "ax2.set_xlabel('Rank')\n",
        "ax2.set_ylabel('Relative Error')\n",
        "plt.tight_layout()\n",
        "plt.show()"
      ],
      "execution_count": 0,
      "outputs": [
        {
          "output_type": "display_data",
          "data": {
            "image/png": "[encoded data removed]",
            "text/plain": [
              "<Figure size 720x432 with 2 Axes>"
            ]
          },
          "metadata": {
            "tags": []
          }
        }
      ]
    },
    {
      "cell_type": "markdown",
      "metadata": {
        "id": "Ew580B70qmdy",
        "colab_type": "text"
      },
      "source": [
        "<strong>Observation:</strong>\n",
        "- The first graph shows the relationship between ranks and time of calculation. We can see that the fast version is faster in the first 20 ranks, then it becomes more and more slower. The time of slow version is constant. At about rank = 35, the slow version becomes faster than fast version.\n",
        "- The second graph shows the relationship between ranks and relative error. We can see that the relative error decreases very fast from ranks = 0 until ranks = 20. From ranks = 20 to ranks = 100, the relative error decreases about 0.05.\n",
        "\n",
        "<strong>Conclusion:</strong>\n",
        "- We can deduce that the best approximation of Gram rank is 20.\n",
        "- In terms of timing: if ranks is small, the fast version is better; if ranks is huge, then the slow version is a good choice.\n"
      ]
    },
    {
      "cell_type": "markdown",
      "metadata": {
        "id": "3TH6PklT6rhw",
        "colab_type": "text"
      },
      "source": [
        "## Question 4"
      ]
    },
    {
      "cell_type": "markdown",
      "metadata": {
        "id": "4QlVeGU26rhx",
        "colab_type": "text"
      },
      "source": [
        "On va implémenter l'algorithme de Random Kernel Features pour le noyau Gaussien."
      ]
    },
    {
      "cell_type": "code",
      "metadata": {
        "id": "RbwxtcSp6rhz",
        "colab_type": "code",
        "colab": {}
      },
      "source": [
        "def random_features(X_train, X_test, gamma, c=300, seed=44):\n",
        "    \"\"\"Compute random kernel features\n",
        "\n",
        "    Parameters\n",
        "    ----------\n",
        "    X_train : array, shape (n_samples1, n_features)\n",
        "        The train samples.\n",
        "    X_test : array, shape (n_samples2, n_features)\n",
        "        The test samples.\n",
        "    gamma : float\n",
        "        The Gaussian kernel parameter\n",
        "    c : int\n",
        "        The number of components\n",
        "    seed : int\n",
        "        The seed for random number generation\n",
        "\n",
        "    Return\n",
        "    ------\n",
        "    X_new_train : array, shape (n_samples1, c)\n",
        "        The new train samples.\n",
        "    X_new_test : array, shape (n_samples2, c)\n",
        "        The new test samples.\n",
        "    \"\"\"\n",
        "    rng = np.random.RandomState(seed)\n",
        "    n_samples, n_features = X_train.shape\n",
        "    \n",
        "    w = rng.normal(0,np.sqrt(2*gamma),(n_features,c))\n",
        "    b = rng.uniform(0,2*np.pi,(1,c))\n",
        "    \n",
        "    X_new_train = np.sqrt(2/c)*np.cos(np.dot(X_train,w)+b)\n",
        "    X_new_test = np.sqrt(2/c)*np.cos(np.dot(X_test,w)+b)\n",
        "    \n",
        "    \n",
        "    return X_new_train, X_new_test"
      ],
      "execution_count": 0,
      "outputs": []
    },
    {
      "cell_type": "markdown",
      "metadata": {
        "id": "G7F3Nx1f6rh3",
        "colab_type": "text"
      },
      "source": [
        "## Question 5"
      ]
    },
    {
      "cell_type": "markdown",
      "metadata": {
        "id": "XB5x9Xnr6rh5",
        "colab_type": "text"
      },
      "source": [
        "On va maintenant appliquer cette méthode avec $c=300$."
      ]
    },
    {
      "cell_type": "code",
      "metadata": {
        "id": "k0ZOGQ9r6rh6",
        "colab_type": "code",
        "outputId": "990b53f2-b1a3-4017-c2f7-f4f27a7a48ac",
        "colab": {
          "base_uri": "https://localhost:8080/",
          "height": 102
        }
      },
      "source": [
        "n_samples, n_features = X_train.shape\n",
        "n_samples_test, _ = X_test.shape\n",
        "gamma = 1. / n_features\n",
        "\n",
        "Z_train, Z_test = random_features(X_train, X_test, gamma, c=300, seed=44)\n",
        "\n",
        "print(\"Fitting SVC linear on %d samples...\" % n_samples)\n",
        "t0 = time()\n",
        "clf = LinearSVC(dual=False)\n",
        "clf.fit(Z_train, y_train)\n",
        "print(\"done in %0.3fs\" % (time() - t0))\n",
        "\n",
        "print(\"Predicting with SVC linear on %d samples...\" % n_samples_test)\n",
        "t0 = time()\n",
        "accuracy = clf.score(Z_test, y_test)\n",
        "print(\"done in %0.3fs\" % (time() - t0))\n",
        "print(\"classification accuracy: %0.3f\" % accuracy)"
      ],
      "execution_count": 0,
      "outputs": [
        {
          "output_type": "stream",
          "text": [
            "Fitting SVC linear on 20000 samples...\n",
            "done in 1.610s\n",
            "Predicting with SVC linear on 40000 samples...\n",
            "done in 0.025s\n",
            "classification accuracy: 0.963\n"
          ],
          "name": "stdout"
        }
      ]
    },
    {
      "cell_type": "markdown",
      "metadata": {
        "id": "ZsIcTJlgvZnx",
        "colab_type": "text"
      },
      "source": [
        "<strong>Observation</strong>: \n",
        "- In terms of accuracy: Random Kernel Features method has an accuracy equals to 0.963, which is higher than classical linear kernel method which is 0.917, but lower than the RBF kernel method which is 0.98. \n",
        "- In terms of time consuming: Random Kernel Features method is slower than classical kernel method, but faster than RBF kernel method.\n",
        "\n",
        "<strong>Conclusion</strong>: \n",
        "- Random Kernel Features method is a compromise between linear kernel method and RBF kernel method regarding to accuracy and time consuming.\n"
      ]
    },
    {
      "cell_type": "markdown",
      "metadata": {
        "id": "Fuz8FCNR6rh-",
        "colab_type": "text"
      },
      "source": [
        "## Question 6"
      ]
    },
    {
      "cell_type": "markdown",
      "metadata": {
        "id": "1M9lQdHe6rh_",
        "colab_type": "text"
      },
      "source": [
        "On implémente la méthode de Nystrom."
      ]
    },
    {
      "cell_type": "code",
      "metadata": {
        "id": "mmkIDxsi6riA",
        "colab_type": "code",
        "colab": {}
      },
      "source": [
        "from sklearn.metrics.pairwise import rbf_kernel\n",
        "\n",
        "def nystrom(X_train, X_test, gamma, c=500, k=200, seed=44):\n",
        "    \"\"\"Compute nystrom kernel approximation\n",
        "\n",
        "    Parameters\n",
        "    ----------\n",
        "    X_train : array, shape (n_samples1, n_features)\n",
        "        The train samples.\n",
        "    X_test : array, shape (n_samples2, n_features)\n",
        "        The test samples.\n",
        "    gamma : float\n",
        "        The Gaussian kernel parameter\n",
        "    c : int\n",
        "        The number of points to sample for the approximation\n",
        "    k : int\n",
        "        The number of components\n",
        "    seed : int\n",
        "        The seed for random number generation\n",
        "\n",
        "    Return\n",
        "    ------\n",
        "    X_new_train : array, shape (n_samples1, c)\n",
        "        The new train samples.\n",
        "    X_new_test : array, shape (n_samples2, c)\n",
        "        The new test samples.\n",
        "    \"\"\"\n",
        "    rng = np.random.RandomState(seed)\n",
        "    n_samples = X_train.shape[0]\n",
        "    idx = rng.choice(n_samples, c)\n",
        "\n",
        "    X_train_idx = X_train[idx, :]\n",
        "    W = rbf_kernel(X_train_idx, X_train_idx, gamma=gamma)\n",
        "    \n",
        "    # TODO\n",
        "    u, s, vt = svd(W, full_matrices=False)\n",
        "    u = u[:,:k]\n",
        "    s = s[:k]\n",
        "   \n",
        "    M = np.dot(u,np.diag(1./np.sqrt(s)))\n",
        "    \n",
        "    C_train = rbf_kernel(X_train, X_train_idx, gamma=gamma)\n",
        "    C_test = rbf_kernel(X_test, X_train_idx, gamma=gamma)\n",
        "    \n",
        "    X_new_train = np.dot(C_train,M)\n",
        "    X_new_test = np.dot(C_test,M)\n",
        "    return X_new_train, X_new_test"
      ],
      "execution_count": 0,
      "outputs": []
    },
    {
      "cell_type": "markdown",
      "metadata": {
        "id": "5grPV1Q06riE",
        "colab_type": "text"
      },
      "source": [
        "## Question 7"
      ]
    },
    {
      "cell_type": "markdown",
      "metadata": {
        "id": "usHMCi6C6riG",
        "colab_type": "text"
      },
      "source": [
        "On va maintenant appliquer cette méthode également avec $c=500$ et $k=300$"
      ]
    },
    {
      "cell_type": "code",
      "metadata": {
        "id": "RMdpueJm6riH",
        "colab_type": "code",
        "outputId": "255663f6-7514-4cf0-8fca-083043c94dd8",
        "colab": {
          "base_uri": "https://localhost:8080/",
          "height": 102
        }
      },
      "source": [
        "Z_train, Z_test = nystrom(X_train, X_test, gamma, c=500, k=300, seed=44)\n",
        "\n",
        "print(\"Fitting SVC linear on %d samples...\" % n_samples)\n",
        "t0 = time()\n",
        "clf = LinearSVC(dual=False)\n",
        "clf.fit(Z_train, y_train)\n",
        "print(\"done in %0.3fs\" % (time() - t0))\n",
        "\n",
        "print(\"Predicting with SVC linear on %d samples...\" % n_samples_test)\n",
        "t0 = time()\n",
        "accuracy = clf.score(Z_test, y_test)\n",
        "print(\"done in %0.3fs\" % (time() - t0))\n",
        "print(\"classification accuracy: %0.3f\" % accuracy)\n"
      ],
      "execution_count": 0,
      "outputs": [
        {
          "output_type": "stream",
          "text": [
            "Fitting SVC linear on 20000 samples...\n",
            "done in 1.273s\n",
            "Predicting with SVC linear on 40000 samples...\n",
            "done in 0.024s\n",
            "classification accuracy: 0.976\n"
          ],
          "name": "stdout"
        }
      ]
    },
    {
      "cell_type": "markdown",
      "metadata": {
        "id": "7Gt4qGanHMcD",
        "colab_type": "text"
      },
      "source": [
        "<strong>Observation</strong>: \n",
        "- In terms of accuracy: Nyström method has an accuracy of 0.976, which is even better than Random Kernel Features method which is 0.963 and of course linear kernel method which is 0.917. However, RBF kernel method still hold the best accuracy with 0.98.\n",
        "- In terms of time consuming: Nyström method fitted and predicted in 1.3s, which is faster than Random Kernel Features method which is 1.6s and RBF kernel method. However, Nyström method is still slower than linear kernel method.\n",
        "\n",
        "<strong>Conclusion</strong>: \n",
        "- Nyström method is better than Random Kernel Features method regarding to accuracy and time consuming. \n",
        "- Nyström is still a compromise between linear kernel method and RBF kernel method."
      ]
    },
    {
      "cell_type": "markdown",
      "metadata": {
        "id": "XfOhZmBd6riL",
        "colab_type": "text"
      },
      "source": [
        "## Question 8"
      ]
    },
    {
      "cell_type": "markdown",
      "metadata": {
        "id": "gPRwum-I6riN",
        "colab_type": "text"
      },
      "source": [
        "On va maintenant réaliser une synthèse des performances des RKF et de Nystrom pour un ensemble de paramètres."
      ]
    },
    {
      "cell_type": "code",
      "metadata": {
        "id": "QNV7wS9j6riP",
        "colab_type": "code",
        "outputId": "890f58d9-3da3-46ce-bc8d-2c0476121163",
        "colab": {
          "base_uri": "https://localhost:8080/",
          "height": 34
        }
      },
      "source": [
        "ranks = np.arange(20, 600, 50)\n",
        "n_ranks = len(ranks)\n",
        "timing_rkf = np.zeros(n_ranks)\n",
        "timing_nystrom = np.zeros(n_ranks)\n",
        "timing_linear = np.zeros(n_ranks)\n",
        "timing_rbf = np.zeros(n_ranks)\n",
        "\n",
        "accuracy_nystrom = np.zeros(n_ranks)\n",
        "accuracy_rkf = np.zeros(n_ranks)\n",
        "accuracy_linear = np.zeros(n_ranks)\n",
        "accuracy_rbf = np.zeros(n_ranks)\n",
        "\n",
        "\n",
        "print(\"Training SVMs for various values of c...\")\n",
        "\n",
        "for i, c in enumerate(ranks):\n",
        "    print(i, c)\n",
        "    \n",
        "    # TODO: compute time and prediction scores for RKF and Nystrom with respect to c\n",
        "    # put results in timing_rkf, timing_nystrom, accuracy_rkf, accuracy_nystrom\n",
        "    r_train, r_test = random_features(X_train, X_test, gamma, c=c, seed=44)\n",
        "    n_train, n_test = nystrom(X_train, X_test, gamma, c=c, k=c-10, seed=44)\n",
        "    clf = LinearSVC(dual=False)\n",
        "   \n",
        "    #Random\n",
        "    t0=time()\n",
        "    clf.fit(r_train, y_train)\n",
        "    accuracy_rkf[i] = clf.score(r_test, y_test)\n",
        "    timing_rkf[i] = time()-t0\n",
        "    \n",
        "    #Nystrom\n",
        "    t0=time()\n",
        "    clf.fit(n_train, y_train)    \n",
        "    accuracy_nystrom[i] = clf.score(n_test, y_test)\n",
        "    timing_nystrom[i] = time()-t0\n",
        "\n",
        "    #Linear classic kernel\n",
        "    t0 = time()\n",
        "    clf = LinearSVC(dual=False)\n",
        "    clf.fit(X_train, y_train)\n",
        "    accuracy_linear[i] = clf.score(X_test, y_test)\n",
        "    timing_linear[i] = time() - t0\n",
        "    \n",
        "    #RBF classic kernel\n",
        "    t0 = time()\n",
        "    clf = SVC(kernel='rbf')\n",
        "    clf.fit(X_train, y_train)\n",
        "    accuracy_rbf[i] = clf.score(X_test, y_test)\n",
        "    timing_rbf[i] = time() - t0"
      ],
      "execution_count": 0,
      "outputs": [
        {
          "output_type": "stream",
          "text": [
            "Training SVMs for various values of c...\n"
          ],
          "name": "stdout"
        }
      ]
    },
    {
      "cell_type": "code",
      "metadata": {
        "id": "EuAkq4XT6riU",
        "colab_type": "code",
        "outputId": "d638f959-e646-405a-df42-65f92db45ec8",
        "colab": {
          "base_uri": "https://localhost:8080/",
          "height": 441
        }
      },
      "source": [
        "###############################################################################\n",
        "# Display bis\n",
        "\n",
        "f, axes = plt.subplots(ncols=1, nrows=2, figsize=(10,6))\n",
        "ax1, ax2 = axes.ravel()\n",
        "\n",
        "ax1.plot(ranks-10, timing_nystrom, '-', label='Nystrom')\n",
        "ax1.plot(ranks, timing_rkf, '-', label='RKF')\n",
        "ax1.plot(ranks, timing_linear * np.ones(n_ranks), '-', label='LinearSVC')\n",
        "ax1.plot(ranks, timing_rbf * np.ones(n_ranks), '-', label='RBF')\n",
        "\n",
        "ax1.set_xlabel('Number of features')\n",
        "ax1.set_ylabel('Time')\n",
        "ax1.legend(loc='lower right')\n",
        "\n",
        "ax2.plot(ranks-10, accuracy_nystrom, '-', label='Nystrom')\n",
        "ax2.plot(ranks, accuracy_rkf, '-', label='RKF')\n",
        "ax2.plot(ranks, accuracy_linear * np.ones(n_ranks), '-', label='LinearSVC')\n",
        "ax2.plot(ranks, accuracy_rbf * np.ones(n_ranks), '-', label='RBF')\n",
        "ax2.set_xlabel('Number of features')\n",
        "ax2.set_ylabel('Accuracy')\n",
        "ax2.legend(loc='lower right')\n",
        "plt.tight_layout()\n",
        "plt.show()"
      ],
      "execution_count": 0,
      "outputs": [
        {
          "output_type": "display_data",
          "data": {
            "image/png": "[encoded data removed]",
            "text/plain": [
              "<Figure size 720x432 with 2 Axes>"
            ]
          },
          "metadata": {
            "tags": []
          }
        }
      ]
    },
    {
      "cell_type": "markdown",
      "metadata": {
        "id": "bjg3ENzMPYrS",
        "colab_type": "text"
      },
      "source": [
        "<strong>Observation:</strong>\n",
        "- The first graph represent the relatin between time and ranks for the 4 methods. We can see that the RBF takes more time than other three. Nyström takes slightly less time than RKF. And LinearSVC takes the least time.\n",
        "- The second graph represents the relationship between accuracy and ranks. We can see that the RBF method has the best accuracy. With increasing of ranks, Nyström and RKF surpass the accuracy of LinearSVC at about rank = 20 and rank = 75 respectively, and are approaching to the accuracy of RBF method. It is interesting to see that while Nyström surpass the LinearSVC, the rank value equals to the Gram approximation rank value."
      ]
    },
    {
      "cell_type": "markdown",
      "metadata": {
        "id": "zJyVFAJuSUJc",
        "colab_type": "text"
      },
      "source": [
        "<strong>Total conclusion of TP:</strong>\n",
        "- Generally speaking, the <strong>linearSVC method</strong> is the fastest. But since it's much less tunable and is basically just a linear interpolation, the accuracy is not always the best.\n",
        "- In our case, we can see that the <strong>Radial Basis Function method (RBF)</strong> has the best accuracy, but it's more time consuming. It's expensive for big scale dataset.\n",
        "- The <strong>Random Kernel Features method</strong> and <strong>Nyström method</strong> are compromised between performance and cost. In our case, <strong>Nyström method</strong> is better than <strong>Random Kernel Features method</strong> regarding to accuracy and time consuming. In order to increase their accuracy, we could increase the rank value, without sacrificing a lot of calculation time."
      ]
    }
  ]
}