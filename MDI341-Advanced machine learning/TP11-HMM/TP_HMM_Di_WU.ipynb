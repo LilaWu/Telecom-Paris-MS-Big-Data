{
 "cells": [
  {
   "cell_type": "code",
   "execution_count": 1,
   "metadata": {},
   "outputs": [],
   "source": [
    "import numpy as np\n",
    "import matplotlib.pyplot as plt\n",
    "import random"
   ]
  },
  {
   "cell_type": "markdown",
   "metadata": {},
   "source": [
    "# Partie 1"
   ]
  },
  {
   "cell_type": "markdown",
   "metadata": {},
   "source": [
    "## Fonctions dont vous pouvez avoir besoin "
   ]
  },
  {
   "cell_type": "markdown",
   "metadata": {},
   "source": [
    "## Chaîne de Markov "
   ]
  },
  {
   "cell_type": "markdown",
   "metadata": {},
   "source": [
    "On veut générer des mots dans une langue donnée en modélisant la formation de ces mots par une chaîne de Markov. Les 28 états du modèle correspondent aux 26 lettres de l’alphabet auxquelles et on ajoute un état ‘espace initial’ (état 1) et un état ‘espace final’ (état 28) qui sert à terminer les mots.\n",
    "\n",
    "La correspondance entre la valeur numérique d’un état et un caractère est la suivante : l’état 1 correspond à un espace (avant le début d’un mot) et l’état 28 à celui d’un espace en fin de mot. Les états 2 à 27 correspondent aux caractères de a à z. On pourra utiliser une structure de dictionnaire en python pour faire cette correspondance.\n",
    "\n",
    "On utilisera une chaîne de Markov ergodique entre les 26 états correspondants aux lettres de l’alphabet.\n"
   ]
  },
  {
   "cell_type": "code",
   "execution_count": 2,
   "metadata": {},
   "outputs": [],
   "source": [
    "dic={1 : ' ', \n",
    "     2 : 'a', \n",
    "     3 : 'b', \n",
    "     4 : 'c', \n",
    "     5 : 'd', \n",
    "     6 : 'e', \n",
    "     7 : 'f', \n",
    "     8 : 'g', \n",
    "     9 : 'h', \n",
    "     10 : 'i', \n",
    "     11 : 'j', \n",
    "     12 : 'k', \n",
    "     13 : 'l', \n",
    "     14 : 'm', \n",
    "     15 : 'n', \n",
    "     16 : 'o', \n",
    "     17 : 'p', \n",
    "     18 : 'q', \n",
    "     19 : 'r' , \n",
    "     20 : 's', \n",
    "     21 : 't', \n",
    "     22 : 'u', \n",
    "     23 : 'v', \n",
    "     24 : 'w', \n",
    "     25 : 'x' , \n",
    "     26 : 'y', \n",
    "     27 : 'z', \n",
    "     28 : ' ' }"
   ]
  },
  {
   "cell_type": "code",
   "execution_count": 3,
   "metadata": {},
   "outputs": [],
   "source": [
    "dic_inv = {v: k for k, v in dic.items()}"
   ]
  },
  {
   "cell_type": "markdown",
   "metadata": {},
   "source": [
    "###  Matrice de transitions"
   ]
  },
  {
   "cell_type": "markdown",
   "metadata": {},
   "source": [
    "'bigramenglish.txt' contient la matrice des transitions pour l’anglais (bigrams) entre deux symboles (caractères ou espaces). Le terme générique (i,j) de la matrice de transition correspond à la probabilité de transiter vers l’état j à partir de l’état i."
   ]
  },
  {
   "cell_type": "code",
   "execution_count": 4,
   "metadata": {},
   "outputs": [],
   "source": [
    "bigramenglish = np.loadtxt('./bigramenglish.txt')"
   ]
  },
  {
   "cell_type": "markdown",
   "metadata": {},
   "source": [
    "A quelles probabilités correspond la première ligne de la matrice de transition ?"
   ]
  },
  {
   "cell_type": "code",
   "execution_count": 5,
   "metadata": {},
   "outputs": [
    {
     "name": "stdout",
     "output_type": "stream",
     "text": [
      "Réponse: \n",
      "\n",
      "La première ligne de la matrice de transition est : \n",
      "\n",
      "[0.0000000e+00 1.1268720e-01 4.3608943e-02 4.5454545e-02 3.2904451e-02\n",
      " 2.2094495e-02 4.1763341e-02 1.5555790e-02 6.4437882e-02 6.8920059e-02\n",
      " 3.6384729e-03 4.2185193e-03 2.3465514e-02 3.9759544e-02 2.2832736e-02\n",
      " 7.0343809e-02 3.1058848e-02 1.4237503e-03 2.5680236e-02 6.6916262e-02\n",
      " 1.6452225e-01 1.0388104e-02 7.0660198e-03 7.0502004e-02 1.0546298e-04\n",
      " 1.0599030e-02 5.2731491e-05 0.0000000e+00] \n",
      "\n",
      "La somme des probabilités est: 0.9999999997710001 , qui est environ égale à 1.\n",
      "\n",
      "Les probabilités de la première ligne correspondent aux probabilités de transition depuis le premier élément qui est l'espace initial vers les autres éléments dans le dictionnaire.\n"
     ]
    }
   ],
   "source": [
    "print('Réponse: \\n\\nLa première ligne de la matrice de transition est : \\n\\n%s'% bigramenglish[0,:], \n",
    "      '\\n\\nLa somme des probabilités est: %s'%sum(bigramenglish[0,:]),\n",
    "      \", qui est environ égale à 1.\\n\\nLes probabilités de la première ligne correspondent aux probabilités de transition depuis le premier élément qui est l'espace initial vers les autres éléments dans le dictionnaire.\")"
   ]
  },
  {
   "cell_type": "markdown",
   "metadata": {},
   "source": [
    "Et celles de la dernière colonne ?"
   ]
  },
  {
   "cell_type": "code",
   "execution_count": 6,
   "metadata": {},
   "outputs": [
    {
     "name": "stdout",
     "output_type": "stream",
     "text": [
      "Réponse: \n",
      "\n",
      "La dernière colonne de la matrice de transition est :\n",
      "\n",
      "[0.0000000e+00 6.7478169e-02 7.1084433e-03 1.9535224e-02 5.9884373e-01\n",
      " 3.6047379e-01 3.9653963e-01 3.1566736e-01 1.0300926e-01 2.4606608e-02\n",
      " 9.5877277e-04 3.7225637e-01 1.5338255e-01 1.5795761e-01 2.9421872e-01\n",
      " 1.2308174e-01 6.4222084e-02 1.3966480e-03 2.1088912e-01 4.3030156e-01\n",
      " 2.2273059e-01 3.8466582e-02 9.9108028e-05 1.0216281e-01 1.2345679e-01\n",
      " 7.7582944e-01 1.9193858e-03 1.0000000e+00] \n",
      "\n",
      "Les probabilités de la dernière colonne correspondent aux probabilités de transition depuis tous les états vers le dernier états qui est l'espace final.\n"
     ]
    }
   ],
   "source": [
    "print('Réponse: \\n\\nLa dernière colonne de la matrice de transition est :\\n\\n%s'%bigramenglish[:,-1], \n",
    "      \"\\n\\nLes probabilités de la dernière colonne correspondent aux probabilités de transition depuis tous les états vers le dernier états qui est l'espace final.\")"
   ]
  },
  {
   "cell_type": "markdown",
   "metadata": {},
   "source": [
    "Pour chaque lettre de l’alphabet, indiquer la transition la plus fréquente depuis cette lettre."
   ]
  },
  {
   "cell_type": "code",
   "execution_count": 7,
   "metadata": {},
   "outputs": [
    {
     "name": "stdout",
     "output_type": "stream",
     "text": [
      "La transition la plus fréquente depuis chaque lettre de l'alphabet est:\n",
      "  => t\n",
      "a => n\n",
      "b => e\n",
      "c => o\n",
      "d =>  \n",
      "e =>  \n",
      "f =>  \n",
      "g =>  \n",
      "h => e\n",
      "i => n\n",
      "j => o\n",
      "k =>  \n",
      "l => e\n",
      "m => e\n",
      "n =>  \n",
      "o => n\n",
      "p => e\n",
      "q => u\n",
      "r => e\n",
      "s =>  \n",
      "t => h\n",
      "u => r\n",
      "v => e\n",
      "w => a\n",
      "x => t\n",
      "y =>  \n",
      "z => e\n",
      "  =>  \n"
     ]
    }
   ],
   "source": [
    "print(\"La transition la plus fréquente depuis chaque lettre de l'alphabet est:\")\n",
    "for i in range(0,len(dic)):\n",
    "    print(dic[i+1], \"=>\", dic[np.argmax(bigramenglish[i,:])+1])"
   ]
  },
  {
   "cell_type": "markdown",
   "metadata": {},
   "source": [
    "###  Générer un mot"
   ]
  },
  {
   "cell_type": "markdown",
   "metadata": {},
   "source": [
    "On veut générer un mot à partir de l’état initial 1 (espace de début de mot).\n",
    "\n",
    "Ecrire une fonction etat_suivant qui génère un état (à t+1) à partir de l’état courant (à t) et à l’aide de la matrice de transitions et de la fonction de répartition."
   ]
  },
  {
   "cell_type": "code",
   "execution_count": 8,
   "metadata": {},
   "outputs": [],
   "source": [
    "def etat_suivant(bi_gram, etat_courant): #etat_courant is between 0 and 27\n",
    "    unif = np.random.random()\n",
    "    cs = np.cumsum(bi_gram[etat_courant]) \n",
    "    etat = 0 \n",
    "    while unif > cs[etat]:\n",
    "        etat = etat + 1\n",
    "    return etat"
   ]
  },
  {
   "cell_type": "code",
   "execution_count": 9,
   "metadata": {},
   "outputs": [
    {
     "data": {
      "text/plain": [
       "12"
      ]
     },
     "execution_count": 9,
     "metadata": {},
     "output_type": "execute_result"
    }
   ],
   "source": [
    "etat_suivant(bigramenglish, 0)"
   ]
  },
  {
   "cell_type": "markdown",
   "metadata": {},
   "source": [
    "Afficher sur un graphique la fonction de répartition pour une ligne de la matrice de transition et expliquer son rôle pour la génération de l’état à t+1."
   ]
  },
  {
   "cell_type": "code",
   "execution_count": 10,
   "metadata": {},
   "outputs": [
    {
     "name": "stdout",
     "output_type": "stream",
     "text": [
      "Réponse:\n",
      "\n",
      "La fonction de répartition aide à trouver l'état dont la probabilité accumulée qui est supérieure à la valeur choisie aléatoirement entre 0 et 1. Cet état trouvé est le prochain état.\n"
     ]
    },
    {
     "data": {
      "image/png": "[encoded data removed]",
      "text/plain": [
       "<Figure size 864x432 with 1 Axes>"
      ]
     },
     "metadata": {
      "needs_background": "light"
     },
     "output_type": "display_data"
    }
   ],
   "source": [
    "plt.figure(figsize=(12,6))\n",
    "plt.plot(np.cumsum(bigramenglish[2]))\n",
    "plt.title(\"cumulative distribution\")\n",
    "plt.axhline(np.random.random(), c='red')\n",
    "\n",
    "print(\"Réponse:\\n\\nLa fonction de répartition aide à trouver l'état dont la probabilité accumulée qui est supérieure à la valeur choisie aléatoirement entre 0 et 1. Cet état trouvé est le prochain état.\")"
   ]
  },
  {
   "cell_type": "markdown",
   "metadata": {},
   "source": [
    "Utiliser cette fonction pour écrire la fonction genere_state_seq qui génère une séquence d’états jusqu’à aboutir à l’état final (28). Ecrire une fonction display_seq qui transforme une séquence d’états en séquence de caractères, à l’aide d’un dictionnaire. "
   ]
  },
  {
   "cell_type": "code",
   "execution_count": 11,
   "metadata": {},
   "outputs": [],
   "source": [
    "#display_seq transforms states into caractors \n",
    "def display_seq(seq, dic):\n",
    "    word = []\n",
    "    word.append([dic[i+1] for i in seq])\n",
    "    return ''.join(word[0]) \n",
    "\n",
    "#genere_state_seq generates sequence of states\n",
    "def genere_state_seq(dic, bi_gram, etat, final) :\n",
    "    bi_gram = bi_gram\n",
    "    seq = []\n",
    "    etat = etat\n",
    "    while etat != final :\n",
    "        etat = etat_suivant(bi_gram, etat)\n",
    "        seq.append(etat)\n",
    "    return display_seq(seq, dic)"
   ]
  },
  {
   "cell_type": "code",
   "execution_count": 12,
   "metadata": {},
   "outputs": [
    {
     "data": {
      "text/plain": [
       "'ory '"
      ]
     },
     "execution_count": 12,
     "metadata": {},
     "output_type": "execute_result"
    }
   ],
   "source": [
    "genere_state_seq(dic, bigramenglish, 0, 27)"
   ]
  },
  {
   "cell_type": "markdown",
   "metadata": {},
   "source": [
    "Utiliser ces fonctions pour générer des mots et donner des exemples de mots générés."
   ]
  },
  {
   "cell_type": "code",
   "execution_count": 13,
   "metadata": {},
   "outputs": [
    {
     "name": "stdout",
     "output_type": "stream",
     "text": [
      "manls \n",
      "aren \n",
      "ent \n",
      "n \n",
      "te \n",
      "asit \n",
      "tid \n",
      "d \n",
      "toming \n",
      "aciead \n",
      "un \n",
      "f \n",
      "boulangr \n",
      "toanot \n",
      "wis \n",
      "e \n",
      "hingerivakerer \n",
      "mere \n",
      "me \n",
      "moun \n"
     ]
    }
   ],
   "source": [
    "for i in range (20):\n",
    "    print(genere_state_seq(dic, bigramenglish, 0, 27))"
   ]
  },
  {
   "cell_type": "markdown",
   "metadata": {},
   "source": [
    "### Générer une phrase "
   ]
  },
  {
   "cell_type": "markdown",
   "metadata": {},
   "source": [
    "On veut générer une suite de mots (phrase). Créer un état final de phrase (état 29, correspondant au caractère . ) dont la probabilité de transition vers cet état depuis un état final de mot est 0.1. Ecrire une fonction modifie_mat_dic qui modifie la matrice de transition et le dictionnaire en conséquence. "
   ]
  },
  {
   "cell_type": "code",
   "execution_count": 14,
   "metadata": {},
   "outputs": [],
   "source": [
    "def modifie_mat_dic(bi_gram):\n",
    "    dic_new = dic.copy()\n",
    "    dic_new[29] = '.'\n",
    "    \n",
    "    bigram_new = np.zeros((29, 29))\n",
    "    bigram_new[:28,:28] = bi_gram\n",
    "    bigram_new[27,27] = 0\n",
    "    bigram_new[27,0] = 0.9\n",
    "    bigram_new[27,28] = 0.1\n",
    "    bigram_new[28,28] = 1\n",
    "    return dic_new, bigram_new"
   ]
  },
  {
   "cell_type": "code",
   "execution_count": 15,
   "metadata": {},
   "outputs": [],
   "source": [
    "dic_new, bigramenglish_new = modifie_mat_dic(bigramenglish)"
   ]
  },
  {
   "cell_type": "markdown",
   "metadata": {},
   "source": [
    "Donner des exemples de phrases générées."
   ]
  },
  {
   "cell_type": "code",
   "execution_count": 16,
   "metadata": {},
   "outputs": [
    {
     "data": {
      "text/plain": [
       "'che  wanqurs  whe  ssco  muthe  re  o  me  awesoy  lloury  texcortt  thepin  satsthe  wit  tardan  d .'"
      ]
     },
     "execution_count": 16,
     "metadata": {},
     "output_type": "execute_result"
    }
   ],
   "source": [
    "genere_state_seq(dic_new, bigramenglish_new, 0, 28)"
   ]
  },
  {
   "cell_type": "markdown",
   "metadata": {},
   "source": [
    "### Reconnaissance de la langue"
   ]
  },
  {
   "cell_type": "markdown",
   "metadata": {},
   "source": [
    "Charger la matrice des transitions entre caractères pour le français. "
   ]
  },
  {
   "cell_type": "code",
   "execution_count": 17,
   "metadata": {},
   "outputs": [],
   "source": [
    "bigramfrancais = np.loadtxt('./bigramfrancais.txt')"
   ]
  },
  {
   "cell_type": "markdown",
   "metadata": {},
   "source": [
    "Ecrire une fonction calc_vraisemblance qui calcule la vraisemblance du modèle français pour une phrase donnée en multipliant les probabilités de transition. Pour tenir compte de toutes les transitions (notamment celles entre espaces de fin et de début de mots et vers la fin de phrase) on pourra transformer une séquence « mot1 mot2.» par la séquence « -mot1+-mot2+.», les signes - , + et . représentant l’état initial de mot, l’état final de mot et l’état final de phrase, respectivement."
   ]
  },
  {
   "cell_type": "code",
   "execution_count": 18,
   "metadata": {},
   "outputs": [],
   "source": [
    "def calc_vraisemblance(sentence, bi_gram, dic):\n",
    "    line = 0\n",
    "    p_total = 1\n",
    "    for i in range(len(sentence)):\n",
    "        j = 1        \n",
    "        while dic[j] != sentence[i] or bi_gram[line][j-1] == 0:\n",
    "            j += 1\n",
    "            if j == 29:\n",
    "                break\n",
    "        \n",
    "        if j >= 28:\n",
    "            p = p * bi_gram[27,0]\n",
    "            line = 0\n",
    "        else: \n",
    "            p = bi_gram[line][j-1]   \n",
    "            line = j-1\n",
    "            p_total = p_total * p\n",
    "    return p_total"
   ]
  },
  {
   "cell_type": "code",
   "execution_count": 19,
   "metadata": {},
   "outputs": [],
   "source": [
    "def calc_vraisemblance(sentence, bi_gram, dic_inv):\n",
    "    line = 0\n",
    "    p_total = 1\n",
    "    for i in range(1,len(sentence)):\n",
    "        j = dic_inv_new[sentence[i]]\n",
    "        p = bi_gram[line][j-1]\n",
    "        p_total = p_total * p\n",
    "        line = j-1\n",
    "    return p_total"
   ]
  },
  {
   "cell_type": "markdown",
   "metadata": {},
   "source": [
    "Calculer la vraisemblance des modèles français et anglais pour la phrase « to be or not to be ». De même calculer la vraisemblance des modèles français et anglais pour la phrase « etre ou ne pas etre »."
   ]
  },
  {
   "cell_type": "code",
   "execution_count": 20,
   "metadata": {},
   "outputs": [],
   "source": [
    "dic_new, bigramfrancais_new = modifie_mat_dic(bigramfrancais)\n",
    "\n",
    "dic_new[1] = '-'\n",
    "dic_new[28] = '+'\n",
    "dic_inv_new = {v: k for k, v in dic_new.items()}"
   ]
  },
  {
   "cell_type": "code",
   "execution_count": 21,
   "metadata": {},
   "outputs": [
    {
     "name": "stdout",
     "output_type": "stream",
     "text": [
      "Pour la phrase \"to be or not to be\":\n",
      "\n",
      "la vraisemblance de la modèle français est 5.9602081018686406e-30.\n",
      "\n",
      "la vraisemblance de la modèle anglais est 8.112892227809415e-20.\n"
     ]
    }
   ],
   "source": [
    "print('Pour la phrase \"to be or not to be\":\\n\\nla vraisemblance de la modèle français est %s.\\n\\nla vraisemblance de la modèle anglais est %s.'\n",
    "      %(calc_vraisemblance('-to+-be+-or+-not+-to+-be+.', bigramfrancais_new, dic_new), calc_vraisemblance('-to+-be+-or+-not+-to+-be+.', bigramenglish_new, dic_new)))"
   ]
  },
  {
   "cell_type": "code",
   "execution_count": 22,
   "metadata": {},
   "outputs": [
    {
     "name": "stdout",
     "output_type": "stream",
     "text": [
      "Pour la phrase \"etre ou ne pas etre\":\n",
      "\n",
      "la vraisemblance de la modèle français est 1.145706887234789e-19.\n",
      "\n",
      "la vraisemblance de la modèle anglais est 4.462288711775253e-24.\n"
     ]
    }
   ],
   "source": [
    "print('Pour la phrase \"etre ou ne pas etre\":\\n\\nla vraisemblance de la modèle français est %s.\\n\\nla vraisemblance de la modèle anglais est %s.'\n",
    "      %(calc_vraisemblance('-etre+-ou+-ne+-pas+-etre+.', bigramfrancais_new, dic_new), calc_vraisemblance('-etre+-ou+-ne+-pas+-etre+.', bigramenglish_new, dic_new)))"
   ]
  },
  {
   "cell_type": "markdown",
   "metadata": {},
   "source": [
    "# Partie 2"
   ]
  },
  {
   "cell_type": "markdown",
   "metadata": {},
   "source": [
    "## Introduction "
   ]
  },
  {
   "cell_type": "markdown",
   "metadata": {},
   "source": [
    "## Génération de séquences d’observations "
   ]
  },
  {
   "cell_type": "markdown",
   "metadata": {},
   "source": [
    "Les matrices A0.txt, B0.txt, vect_p0.txt contiennent les matrices A, B, et le vecteur π correspondant au modèle de Markov caché du chiffre 0. Le fichier matrice_symboles.txt contient le dictionnaire. Charger ces fichiers depuis le site pédagogique."
   ]
  },
  {
   "cell_type": "code",
   "execution_count": 23,
   "metadata": {},
   "outputs": [],
   "source": [
    "A0 = np.loadtxt('./data_txt_compact/A0.txt')\n",
    "B0 = np.loadtxt('./data_txt_compact/B0.txt')\n",
    "vect_p0 = np.loadtxt('./data_txt_compact/vect_pi0.txt')\n",
    "matrice_symboles = np.loadtxt('./data_txt_compact/matrice_symboles.txt')"
   ]
  },
  {
   "cell_type": "markdown",
   "metadata": {},
   "source": [
    "### A quoi correspondent les zéros de la matrice B ? et ceux de la matrice A et du vecteur π? "
   ]
  },
  {
   "cell_type": "markdown",
   "metadata": {},
   "source": [
    "Réponse: \n",
    "\n",
    "- Les zéros sur (i,j) de la matrice B représentent que la probabilité depuis un état caché i à un état j est 0.\n",
    "- Les zéros sur (i,j) de la matrice A représentent que la probabilité de transition entre état i et etat j est 0.\n",
    "- Les zéros sur [j] du vecteur π représentent que la probabilité de l'état j sur l'état initial est 0."
   ]
  },
  {
   "cell_type": "markdown",
   "metadata": {},
   "source": [
    "### etat_suivant"
   ]
  },
  {
   "cell_type": "markdown",
   "metadata": {},
   "source": [
    "Ecrire une fonction etat_suivant qui génère un état qt+1(à t+1) à partir de l’état courant qt (à t) à l’aide de la matrice de transitions et de la fonction de répartition cumsum."
   ]
  },
  {
   "cell_type": "code",
   "execution_count": 24,
   "metadata": {},
   "outputs": [],
   "source": [
    "def etat_suivant(bi_gram, etat_initial):\n",
    "    unif = np.random.random()\n",
    "    cs = np.cumsum(bi_gram[etat_initial])\n",
    "    etat = 0\n",
    "    while unif > cs[etat]:\n",
    "        etat = etat + 1\n",
    "    return etat"
   ]
  },
  {
   "cell_type": "code",
   "execution_count": 25,
   "metadata": {},
   "outputs": [
    {
     "data": {
      "text/plain": [
       "0"
      ]
     },
     "execution_count": 25,
     "metadata": {},
     "output_type": "execute_result"
    }
   ],
   "source": [
    "etat_suivant(A0, 0)"
   ]
  },
  {
   "cell_type": "markdown",
   "metadata": {},
   "source": [
    "Afficher la fonction de répartition pour une ligne de la matrice de transition et expliquer son rôle pour la génération de l’état à t+1."
   ]
  },
  {
   "cell_type": "code",
   "execution_count": 26,
   "metadata": {},
   "outputs": [
    {
     "name": "stdout",
     "output_type": "stream",
     "text": [
      "La fonction de répartition aide à trouver l'état dont la probabilité accumulée qui est supérieure à la valeur choisie aléatoirement entre 0 et 1. Cet état trouvé sera le prochain état.\n"
     ]
    },
    {
     "data": {
      "image/png": "[encoded data removed]",
      "text/plain": [
       "<Figure size 864x432 with 1 Axes>"
      ]
     },
     "metadata": {
      "needs_background": "light"
     },
     "output_type": "display_data"
    }
   ],
   "source": [
    "plt.figure(figsize=(12,6))\n",
    "plt.plot(np.cumsum(A0[0]))\n",
    "plt.title(\"cumulative distribution\")\n",
    "plt.axhline(np.random.random(), c='red')\n",
    "\n",
    "print(\"La fonction de répartition aide à trouver l'état dont la probabilité accumulée qui est supérieure à la valeur choisie aléatoirement entre 0 et 1. Cet état trouvé sera le prochain état.\")"
   ]
  },
  {
   "cell_type": "markdown",
   "metadata": {},
   "source": [
    "### Séquence d'observations "
   ]
  },
  {
   "cell_type": "markdown",
   "metadata": {},
   "source": [
    "Générer une séquence d’observations suivant le modèle de Markov Caché du chiffre 0. On commencera par générer une séquence d’états suivant ce modèle à l’aide de la fonction etat_suivant. Puis on générera la séquence d’observations par le même procédé."
   ]
  },
  {
   "cell_type": "code",
   "execution_count": 27,
   "metadata": {},
   "outputs": [],
   "source": [
    "#generate sequence of states\n",
    "def genere_etat_seq(transition_etat, etat, number) :\n",
    "    transition_etat = transition_etat\n",
    "    seq_etat = []\n",
    "    etat = etat\n",
    "    seq_etat.append(etat)\n",
    "    for i in range(number) :\n",
    "        etat_prochain = etat_suivant(transition_etat, etat)\n",
    "        seq_etat.append(etat_prochain)\n",
    "        etat = etat_prochain\n",
    "    return seq_etat\n",
    "\n",
    "#generate sequence of observations\n",
    "def genere_obs_seq(transition_obs, transition_etat, etat, number):\n",
    "    seq_obs = []\n",
    "    unif = np.random.random()\n",
    "    for i in genere_etat_seq(transition_etat, etat, number):\n",
    "        unif = np.random.random()\n",
    "        cs = np.cumsum(transition_obs[:,i])\n",
    "        obs = 1\n",
    "        while unif > cs[obs]:\n",
    "            obs = obs + 1\n",
    "        seq_obs.append(obs)\n",
    "    return seq_obs"
   ]
  },
  {
   "cell_type": "code",
   "execution_count": 28,
   "metadata": {},
   "outputs": [],
   "source": [
    "ob0 = genere_obs_seq(B0, A0, 0, 28)"
   ]
  },
  {
   "cell_type": "code",
   "execution_count": 29,
   "metadata": {},
   "outputs": [
    {
     "data": {
      "text/plain": [
       "[1,\n",
       " 13,\n",
       " 29,\n",
       " 17,\n",
       " 11,\n",
       " 11,\n",
       " 17,\n",
       " 22,\n",
       " 22,\n",
       " 10,\n",
       " 1,\n",
       " 1,\n",
       " 1,\n",
       " 1,\n",
       " 1,\n",
       " 1,\n",
       " 1,\n",
       " 1,\n",
       " 1,\n",
       " 1,\n",
       " 1,\n",
       " 1,\n",
       " 1,\n",
       " 1,\n",
       " 1,\n",
       " 1,\n",
       " 1,\n",
       " 1,\n",
       " 1]"
      ]
     },
     "execution_count": 29,
     "metadata": {},
     "output_type": "execute_result"
    }
   ],
   "source": [
    "ob0"
   ]
  },
  {
   "cell_type": "markdown",
   "metadata": {},
   "source": [
    "### Visualiser "
   ]
  },
  {
   "cell_type": "markdown",
   "metadata": {},
   "source": [
    "Visualiser le résultat sous forme d’image. Générer des séquences pour le chiffre 7 et le chiffre 1 (matrices B1.txt, B7.txt, etc...)"
   ]
  },
  {
   "cell_type": "code",
   "execution_count": 30,
   "metadata": {},
   "outputs": [],
   "source": [
    "#import data\n",
    "A1 = np.loadtxt('./data_txt_compact/A1.txt')\n",
    "B1 = np.loadtxt('./data_txt_compact/B1.txt')\n",
    "vect_p1 = np.loadtxt('./data_txt_compact/vect_pi1.txt')\n",
    "\n",
    "A7 = np.loadtxt('./data_txt_compact/A7.txt')\n",
    "B7 = np.loadtxt('./data_txt_compact/B7.txt')\n",
    "vect_p7 = np.loadtxt('./data_txt_compact/vect_pi7.txt')"
   ]
  },
  {
   "cell_type": "code",
   "execution_count": 31,
   "metadata": {},
   "outputs": [],
   "source": [
    "#generate sequence of observation for class 1 and 7\n",
    "ob0 = genere_obs_seq(B0, A0, 0, 28)\n",
    "ob1 = genere_obs_seq(B1, A1, 0, 28)\n",
    "ob7 = genere_obs_seq(B7, A7, 0, 28)"
   ]
  },
  {
   "cell_type": "code",
   "execution_count": 32,
   "metadata": {},
   "outputs": [
    {
     "data": {
      "image/png": "[encoded data removed]",
      "text/plain": [
       "<Figure size 1152x288 with 3 Axes>"
      ]
     },
     "metadata": {
      "needs_background": "light"
     },
     "output_type": "display_data"
    }
   ],
   "source": [
    "#visualise the sequence\n",
    "fig=plt.figure(figsize=(16, 4))\n",
    "\n",
    "im=[]\n",
    "for t in range (0,len(ob0)) :\n",
    "    im_col=matrice_symboles[:, ob0[t]-1]\n",
    "    im.append(im_col)\n",
    "im = np.array(im).T # now make an array\n",
    "fig.add_subplot(1, 3, 1)\n",
    "plt.imshow(im*255, cmap='Greys', interpolation='none', aspect='auto')\n",
    "plt.title('Chiffre 0')\n",
    "\n",
    "im=[]\n",
    "for t in range (0,len(ob1)) :\n",
    "    im_col=matrice_symboles[:, ob1[t]-1] \n",
    "    im.append(im_col)\n",
    "im = np.array(im).T # now make an array\n",
    "fig.add_subplot(1, 3, 2)\n",
    "plt.imshow(im*255, cmap='Greys', interpolation='none', aspect='auto')\n",
    "plt.title('Chiffre 1')\n",
    "\n",
    "im=[]\n",
    "for t in range (0,len(ob7)) :\n",
    "    im_col=matrice_symboles[:, ob7[t]-1] \n",
    "    im.append(im_col)\n",
    "im = np.array(im).T # now make an array\n",
    "fig.add_subplot(1, 3, 3)\n",
    "plt.imshow(im*255, cmap='Greys', interpolation='none', aspect='auto')\n",
    "plt.title('Chiffre 7')\n",
    "\n",
    "plt.show()"
   ]
  },
  {
   "cell_type": "markdown",
   "metadata": {},
   "source": [
    "## Calcul de la vraisemblance de séquences d’observations\n",
    " "
   ]
  },
  {
   "cell_type": "markdown",
   "metadata": {},
   "source": [
    "\n",
    "Les fichiers SeqTest0.txt, SeqTest1.txt, SeqTest7.txt contiennent chacun 10 séquences d’observations de chiffres des 3 classes 0, 1 et 7, disposés en ligne. Le script suivant extrait la 5ème observation de la 3ème séquence des chiffres 0."
   ]
  },
  {
   "cell_type": "markdown",
   "metadata": {},
   "source": [
    "### Calculer la vraisemblance "
   ]
  },
  {
   "cell_type": "markdown",
   "metadata": {},
   "source": [
    "Calculer la vraisemblance de ces séquences suivant chacun des modèles (0, 1 et 7) par l’algorithme de Viterbi (on pourra implémenter la version logarithmique de cet algorithme). Pour cela les matrices A, B et π seront converties en logarithmes (utiliser np.log)."
   ]
  },
  {
   "cell_type": "code",
   "execution_count": 33,
   "metadata": {},
   "outputs": [],
   "source": [
    "TestChiffres0 = np.loadtxt('./data_txt_compact/SeqTest0.txt')\n",
    "TestChiffres1 = np.loadtxt('./data_txt_compact/SeqTest1.txt')\n",
    "TestChiffres7 = np.loadtxt('./data_txt_compact/SeqTest7.txt')"
   ]
  },
  {
   "cell_type": "markdown",
   "metadata": {},
   "source": [
    "Commentaire: \n",
    "\n",
    "Avant calculer la vraisemblance de ces séquence, on va voir comment les séquences d'observations ressemble en image. On va moyenner tous les séquences d'observations et les intégrir en une image. "
   ]
  },
  {
   "cell_type": "code",
   "execution_count": 34,
   "metadata": {},
   "outputs": [
    {
     "data": {
      "image/png": "[encoded data removed]",
      "text/plain": [
       "<Figure size 1152x288 with 3 Axes>"
      ]
     },
     "metadata": {
      "needs_background": "light"
     },
     "output_type": "display_data"
    }
   ],
   "source": [
    "#visualize the images\n",
    "fig=plt.figure(figsize=(16, 4))\n",
    "\n",
    "im = []\n",
    "for t in range(0, TestChiffres0.shape[1]):\n",
    "    for i in range(0, TestChiffres0.shape[0]):\n",
    "        im_col+=matrice_symboles[:,int(TestChiffres0[i, t])-1]\n",
    "    im_col = im_col/TestChiffres0.shape[0]\n",
    "    im.append(im_col)\n",
    "im = np.array(im).T # now make an array\n",
    "fig.add_subplot(1,3,1)\n",
    "plt.imshow(im*255, cmap='Greys', interpolation='none', aspect='auto')\n",
    "plt.title('Chiffre 0')\n",
    "\n",
    "im = []\n",
    "for t in range(0, TestChiffres1.shape[1]):\n",
    "    for i in range(0, TestChiffres1.shape[0]):\n",
    "        im_col+=matrice_symboles[:,int(TestChiffres1[i, t])-1]\n",
    "    im_col = im_col/TestChiffres1.shape[0]\n",
    "    im.append(im_col)\n",
    "im = np.array(im).T # now make an array\n",
    "fig.add_subplot(1,3,2)\n",
    "plt.imshow(im*255, cmap='Greys', interpolation='none', aspect='auto')\n",
    "plt.title('Chiffre 1')\n",
    "\n",
    "im = []\n",
    "for t in range(0, TestChiffres7.shape[1]):\n",
    "    for i in range(0, TestChiffres7.shape[0]):\n",
    "        im_col+=matrice_symboles[:,int(TestChiffres7[i, t])-1]\n",
    "    im_col = im_col/TestChiffres7.shape[0]\n",
    "    im.append(im_col)\n",
    "im = np.array(im).T # now make an array\n",
    "fig.add_subplot(1,3,3)\n",
    "plt.imshow(im*255, cmap='Greys', interpolation='none', aspect='auto')\n",
    "plt.title('Chiffre 7')\n",
    "\n",
    "plt.show()"
   ]
  },
  {
   "cell_type": "markdown",
   "metadata": {},
   "source": [
    "Les images se distinguent bien entre eux. Maintenant on va voir les vraisemblances des modèles de 0, 1 et 7. "
   ]
  },
  {
   "cell_type": "code",
   "execution_count": 35,
   "metadata": {},
   "outputs": [],
   "source": [
    "#change into log\n",
    "def log(mat):\n",
    "    matrix=mat.copy()\n",
    "    ex, fe = matrix.shape\n",
    "    for i in range(ex):\n",
    "        for j in range(fe):\n",
    "            if matrix[i][j] == 0:\n",
    "                matrix[i][j] = -1000\n",
    "            else: \n",
    "                matrix[i][j] = np.log(matrix[i][j])\n",
    "    return matrix\n",
    "\n",
    "def viterbi_vraisemblance_log(test, n, A, B, pi):\n",
    "    #test is the test data\n",
    "    #n is the indice of sequence in the test data\n",
    "    unif = np.random.random()\n",
    "    delta = np.zeros((len(A), test.shape[1]))\n",
    "    \n",
    "    #calculate first status of delta with initial pi value\n",
    "    delta[:,0] = pi[:] + B0[int(test[n,0])-1,:]\n",
    "    #iterate observations per sequence\n",
    "    for i in range(1, test.shape[1]): #28\n",
    "        for s in range(len(A)):#5\n",
    "            delta[s,i] = np.max(delta[:,i-1] + A[:,s]) + B[int(test[n,i])-1,s]\n",
    "            #phi[s,i] = np.argmax(delta[:,i-1]*A[:,s])\n",
    "    proba = np.max(delta[:,-1])     \n",
    "\n",
    "    return 10**proba"
   ]
  },
  {
   "cell_type": "code",
   "execution_count": 36,
   "metadata": {},
   "outputs": [
    {
     "name": "stdout",
     "output_type": "stream",
     "text": [
      "Pour la modèle 0:\n",
      "La vraisemblance pour la séquence 1 est 6.188327573735087e-29.\n",
      "La vraisemblance pour la séquence 2 est 2.0780215062589775e-32.\n",
      "La vraisemblance pour la séquence 3 est 3.993004389558117e-38.\n",
      "La vraisemblance pour la séquence 4 est 6.815964439502935e-32.\n",
      "La vraisemblance pour la séquence 5 est 2.8372170780473504e-48.\n",
      "La vraisemblance pour la séquence 6 est 6.478860385380666e-32.\n",
      "La vraisemblance pour la séquence 7 est 5.275433549342219e-35.\n",
      "La vraisemblance pour la séquence 8 est 2.6576559521983894e-25.\n",
      "La vraisemblance pour la séquence 9 est 4.1327808262024106e-42.\n",
      "La vraisemblance pour la séquence 10 est 1.4586854043990447e-21.\n"
     ]
    }
   ],
   "source": [
    "A0_log = log(A0)\n",
    "B0_log = log(B0)\n",
    "vect_p0_log = log(vect_p0.reshape(1,-1))[0]\n",
    "print('Pour la modèle 0:')\n",
    "for n in range(TestChiffres0.shape[0]):\n",
    "    print('La vraisemblance pour la séquence %s est %s.'%(n+1,viterbi_vraisemblance_log(TestChiffres0, n, A0_log, B0_log, vect_p0_log)))"
   ]
  },
  {
   "cell_type": "code",
   "execution_count": 37,
   "metadata": {},
   "outputs": [
    {
     "name": "stdout",
     "output_type": "stream",
     "text": [
      "Pour la modèle 1:\n",
      "La vraisemblance pour la séquence 1 est 4.717653066894401e-53.\n",
      "La vraisemblance pour la séquence 2 est 6.487768273339745e-13.\n",
      "La vraisemblance pour la séquence 3 est 4.60004678697586e-23.\n",
      "La vraisemblance pour la séquence 4 est 2.5177347274677913e-13.\n",
      "La vraisemblance pour la séquence 5 est 1.911354674216564e-13.\n",
      "La vraisemblance pour la séquence 6 est 6.712739973787396e-44.\n",
      "La vraisemblance pour la séquence 7 est 3.554956598210941e-29.\n",
      "La vraisemblance pour la séquence 8 est 9.275455661914314e-32.\n",
      "La vraisemblance pour la séquence 9 est 1.23450349164521e-18.\n",
      "La vraisemblance pour la séquence 10 est 1.4707540760505446e-10.\n"
     ]
    }
   ],
   "source": [
    "A1_log = log(A1)\n",
    "B1_log = log(B1)\n",
    "vect_p1_log = log(vect_p1.reshape(1,-1))[0]\n",
    "print('Pour la modèle 1:')\n",
    "for n in range(TestChiffres1.shape[0]):\n",
    "    print('La vraisemblance pour la séquence %s est %s.'%(n+1,viterbi_vraisemblance_log(TestChiffres1, n, A1_log, B1_log, vect_p1_log)))"
   ]
  },
  {
   "cell_type": "code",
   "execution_count": 38,
   "metadata": {},
   "outputs": [
    {
     "name": "stdout",
     "output_type": "stream",
     "text": [
      "Pour la modèle 7:\n",
      "La vraisemblance pour la séquence 1 est 2.7630402027837616e-32.\n",
      "La vraisemblance pour la séquence 2 est 3.820645109461345e-31.\n",
      "La vraisemblance pour la séquence 3 est 5.533100575559308e-48.\n",
      "La vraisemblance pour la séquence 4 est 2.766698605951445e-42.\n",
      "La vraisemblance pour la séquence 5 est 8.4087327481843e-24.\n",
      "La vraisemblance pour la séquence 6 est 3.401813152756036e-29.\n",
      "La vraisemblance pour la séquence 7 est 1.4925387874862496e-20.\n",
      "La vraisemblance pour la séquence 8 est 1.3923008910593357e-46.\n",
      "La vraisemblance pour la séquence 9 est 2.924596498871453e-31.\n",
      "La vraisemblance pour la séquence 10 est 2.836106263070274e-25.\n"
     ]
    }
   ],
   "source": [
    "A7_log = log(A7)\n",
    "B7_log = log(B7)\n",
    "vect_p7_log = log(vect_p7.reshape(1,-1))[0]\n",
    "print('Pour la modèle 7:')\n",
    "for n in range(TestChiffres7.shape[0]):\n",
    "    print('La vraisemblance pour la séquence %s est %s.'%(n+1,viterbi_vraisemblance_log(TestChiffres7, n, A7_log, B7_log, vect_p7_log)))"
   ]
  },
  {
   "cell_type": "markdown",
   "metadata": {},
   "source": [
    "### Classification des images "
   ]
  },
  {
   "cell_type": "markdown",
   "metadata": {},
   "source": [
    "Donner le résultat de la classification des images de test en considérant un problème à trois classes : 0, 1 et 7."
   ]
  },
  {
   "cell_type": "code",
   "execution_count": 39,
   "metadata": {},
   "outputs": [],
   "source": [
    "def classification(test, A0_log, B0_log, vect_p0_log, A1_log, B1_log, vect_p1_log, A7_log, B7_log, vect_p7_log):\n",
    "    ind = [0,1,7]\n",
    "    fig=plt.figure(figsize=(12, 4))\n",
    "    for n in range(test.shape[0]):\n",
    "        #visualise the images\n",
    "        im = []\n",
    "        for t in range(0, test.shape[1]):\n",
    "            im_col=matrice_symboles[:,int(test[n, t])-1]\n",
    "            im.append(im_col)\n",
    "        im = np.array(im).T # now make an array\n",
    "        fig.add_subplot(2, 5, n+1)\n",
    "        plt.imshow(im*255, cmap='Greys', interpolation='none', aspect='auto')\n",
    "        #calculate the proba vraisemblance\n",
    "        c0 = viterbi_vraisemblance_log(test, n, A0_log, B0_log, vect_p0_log)\n",
    "        c1 = viterbi_vraisemblance_log(test, n, A1_log, B1_log, vect_p1_log)\n",
    "        c7 = viterbi_vraisemblance_log(test, n, A7_log, B7_log, vect_p7_log)\n",
    "        c = ind[np.argmax([c0, c1, c7])]\n",
    "        print('La classification pour la séquence %s est %s.\\nLa vraisemblance des classes 0, 1 et 7: %s, %s, %s.\\n'%(n,c, c0, c1, c7))"
   ]
  },
  {
   "cell_type": "code",
   "execution_count": 40,
   "metadata": {},
   "outputs": [
    {
     "name": "stdout",
     "output_type": "stream",
     "text": [
      "Pour la modèle 0:\n",
      "\n",
      "La classification pour la séquence 0 est 0.\n",
      "La vraisemblance des classes 0, 1 et 7: 6.188327573735087e-29, 9.748426683309532e-93, 6.529168854803648e-106.\n",
      "\n",
      "La classification pour la séquence 1 est 0.\n",
      "La vraisemblance des classes 0, 1 et 7: 2.0780215062589775e-32, 3.922281983918701e-90, 3.479763863050684e-89.\n",
      "\n",
      "La classification pour la séquence 2 est 0.\n",
      "La vraisemblance des classes 0, 1 et 7: 3.993004389558117e-38, 1.6974901969785622e-61, 9.936699577742638e-48.\n",
      "\n",
      "La classification pour la séquence 3 est 0.\n",
      "La vraisemblance des classes 0, 1 et 7: 6.815964439502935e-32, 6.251598223013799e-118, 2.2959118314203407e-114.\n",
      "\n",
      "La classification pour la séquence 4 est 0.\n",
      "La vraisemblance des classes 0, 1 et 7: 2.8372170780473504e-48, 8.973066665610402e-75, 1.9421276994576714e-108.\n",
      "\n",
      "La classification pour la séquence 5 est 0.\n",
      "La vraisemblance des classes 0, 1 et 7: 6.478860385380666e-32, 3.726509805957796e-80, 3.8355017683493945e-103.\n",
      "\n",
      "La classification pour la séquence 6 est 0.\n",
      "La vraisemblance des classes 0, 1 et 7: 5.275433549342219e-35, 3.284452854136122e-68, 1.148516895602007e-62.\n",
      "\n",
      "La classification pour la séquence 7 est 0.\n",
      "La vraisemblance des classes 0, 1 et 7: 2.6576559521983894e-25, 2.029751976999742e-73, 4.824124156704462e-83.\n",
      "\n",
      "La classification pour la séquence 8 est 0.\n",
      "La vraisemblance des classes 0, 1 et 7: 4.1327808262024106e-42, 1.9936125192581232e-100, 4.844729436084297e-97.\n",
      "\n",
      "La classification pour la séquence 9 est 0.\n",
      "La vraisemblance des classes 0, 1 et 7: 1.4586854043990447e-21, 2.574090717021957e-36, 1.542464554011694e-55.\n",
      "\n"
     ]
    },
    {
     "data": {
      "image/png": "[encoded data removed]",
      "text/plain": [
       "<Figure size 864x288 with 10 Axes>"
      ]
     },
     "metadata": {
      "needs_background": "light"
     },
     "output_type": "display_data"
    }
   ],
   "source": [
    "print('Pour la modèle 0:\\n')\n",
    "classification(TestChiffres0, A0_log, B0_log, vect_p0_log, A1_log, B1_log, vect_p1_log, A7_log, B7_log, vect_p7_log)"
   ]
  },
  {
   "cell_type": "code",
   "execution_count": 41,
   "metadata": {},
   "outputs": [
    {
     "name": "stdout",
     "output_type": "stream",
     "text": [
      "Pour la modèle 1:\n",
      "\n",
      "La classification pour la séquence 0 est 1.\n",
      "La vraisemblance des classes 0, 1 et 7: 6.766780106566167e-70, 4.717653066894401e-53, 3.0009128880220986e-72.\n",
      "\n",
      "La classification pour la séquence 1 est 1.\n",
      "La vraisemblance des classes 0, 1 et 7: 8.87667514517009e-20, 6.487768273339745e-13, 3.6347745284791494e-28.\n",
      "\n",
      "La classification pour la séquence 2 est 1.\n",
      "La vraisemblance des classes 0, 1 et 7: 8.747955218616978e-31, 4.60004678697586e-23, 6.505957549409308e-39.\n",
      "\n",
      "La classification pour la séquence 3 est 1.\n",
      "La vraisemblance des classes 0, 1 et 7: 7.954082269587863e-18, 2.5177347274677913e-13, 2.2980602695590464e-34.\n",
      "\n",
      "La classification pour la séquence 4 est 1.\n",
      "La vraisemblance des classes 0, 1 et 7: 9.682815979159835e-25, 1.911354674216564e-13, 1.2424564031381806e-34.\n",
      "\n",
      "La classification pour la séquence 5 est 1.\n",
      "La vraisemblance des classes 0, 1 et 7: 9.696188487150993e-67, 6.712739973787396e-44, 1.1884232360524318e-62.\n",
      "\n",
      "La classification pour la séquence 6 est 1.\n",
      "La vraisemblance des classes 0, 1 et 7: 2.5681501163755593e-34, 3.554956598210941e-29, 5.455016578067406e-35.\n",
      "\n",
      "La classification pour la séquence 7 est 1.\n",
      "La vraisemblance des classes 0, 1 et 7: 9.298026600874994e-35, 9.275455661914314e-32, 8.887400987125917e-45.\n",
      "\n",
      "La classification pour la séquence 8 est 1.\n",
      "La vraisemblance des classes 0, 1 et 7: 1.937593342148798e-33, 1.23450349164521e-18, 4.581314297705446e-51.\n",
      "\n",
      "La classification pour la séquence 9 est 1.\n",
      "La vraisemblance des classes 0, 1 et 7: 4.2282980942680255e-15, 1.4707540760505446e-10, 1.145096753347626e-39.\n",
      "\n"
     ]
    },
    {
     "data": {
      "image/png": "[encoded data removed]",
      "text/plain": [
       "<Figure size 864x288 with 10 Axes>"
      ]
     },
     "metadata": {
      "needs_background": "light"
     },
     "output_type": "display_data"
    }
   ],
   "source": [
    "print('Pour la modèle 1:\\n')\n",
    "classification(TestChiffres1, A0_log, B0_log, vect_p0_log, A1_log, B1_log, vect_p1_log, A7_log, B7_log, vect_p7_log)"
   ]
  },
  {
   "cell_type": "code",
   "execution_count": 42,
   "metadata": {},
   "outputs": [
    {
     "name": "stdout",
     "output_type": "stream",
     "text": [
      "Pour la modèle 7:\n",
      "\n",
      "La classification pour la séquence 0 est 7.\n",
      "La vraisemblance des classes 0, 1 et 7: 5.846907724151573e-88, 2.748321507412194e-81, 2.7630402027837616e-32.\n",
      "\n",
      "La classification pour la séquence 1 est 7.\n",
      "La vraisemblance des classes 0, 1 et 7: 9.965991825571101e-54, 1.3315469009164933e-56, 3.820645109461345e-31.\n",
      "\n",
      "La classification pour la séquence 2 est 1.\n",
      "La vraisemblance des classes 0, 1 et 7: 2.0689179139455086e-59, 1.2411753785801129e-42, 5.533100575559308e-48.\n",
      "\n",
      "La classification pour la séquence 3 est 7.\n",
      "La vraisemblance des classes 0, 1 et 7: 2.1623423878178575e-69, 5.745232717942654e-73, 2.766698605951445e-42.\n",
      "\n",
      "La classification pour la séquence 4 est 7.\n",
      "La vraisemblance des classes 0, 1 et 7: 1.6913002068543504e-89, 1.9752856819515147e-57, 8.4087327481843e-24.\n",
      "\n",
      "La classification pour la séquence 5 est 7.\n",
      "La vraisemblance des classes 0, 1 et 7: 1.8859246890562948e-36, 3.483481008890169e-57, 3.401813152756036e-29.\n",
      "\n",
      "La classification pour la séquence 6 est 7.\n",
      "La vraisemblance des classes 0, 1 et 7: 4.531180024943446e-92, 5.7084784892018234e-77, 1.4925387874862496e-20.\n",
      "\n",
      "La classification pour la séquence 7 est 7.\n",
      "La vraisemblance des classes 0, 1 et 7: 9.652945334838264e-58, 3.6964608526942166e-51, 1.3923008910593357e-46.\n",
      "\n",
      "La classification pour la séquence 8 est 7.\n",
      "La vraisemblance des classes 0, 1 et 7: 2.802975329866564e-77, 4.208745359900052e-79, 2.924596498871453e-31.\n",
      "\n",
      "La classification pour la séquence 9 est 7.\n",
      "La vraisemblance des classes 0, 1 et 7: 5.96957390521317e-89, 1.0363485841886049e-86, 2.836106263070274e-25.\n",
      "\n"
     ]
    },
    {
     "data": {
      "image/png": "[encoded data removed]",
      "text/plain": [
       "<Figure size 864x288 with 10 Axes>"
      ]
     },
     "metadata": {
      "needs_background": "light"
     },
     "output_type": "display_data"
    }
   ],
   "source": [
    "print('Pour la modèle 7:\\n')\n",
    "classification(TestChiffres7, A0_log, B0_log, vect_p0_log, A1_log, B1_log, vect_p1_log, A7_log, B7_log, vect_p7_log)"
   ]
  }
 ],
 "metadata": {
  "kernelspec": {
   "display_name": "Python 3",
   "language": "python",
   "name": "python3"
  },
  "language_info": {
   "codemirror_mode": {
    "name": "ipython",
    "version": 3
   },
   "file_extension": ".py",
   "mimetype": "text/x-python",
   "name": "python",
   "nbconvert_exporter": "python",
   "pygments_lexer": "ipython3",
   "version": "3.7.4"
  },
  "toc": {
   "base_numbering": 1,
   "nav_menu": {},
   "number_sections": true,
   "sideBar": true,
   "skip_h1_title": false,
   "title_cell": "Table of Contents",
   "title_sidebar": "Contents",
   "toc_cell": false,
   "toc_position": {},
   "toc_section_display": true,
   "toc_window_display": false
  }
 },
 "nbformat": 4,
 "nbformat_minor": 4
}
