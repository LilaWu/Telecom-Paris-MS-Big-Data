{
 "cells": [
  {
   "cell_type": "markdown",
   "metadata": {},
   "source": [
    "# EX2"
   ]
  },
  {
   "cell_type": "code",
   "execution_count": 160,
   "metadata": {},
   "outputs": [],
   "source": [
    "import matplotlib.pyplot as plt\n",
    "from sklearn import datasets\n",
    "\n",
    "def stochastic_gradient(X, y, gamma, n_iter, w_ini, loss=\"mse\",\n",
    "                        alpha=0, average=False ,t0=0):\n",
    "    \"\"\"Stochastic gradient algorithm\n",
    "\n",
    "    Parameters\n",
    "    ----------\n",
    "    X : array, shape (n_samples, n_features)\n",
    "        The data\n",
    "    y : array, shape (n_samples,)\n",
    "        The targets.\n",
    "    gamma : float | callable\n",
    "        The step size. Can be a constant float or a function\n",
    "        that allows to have a variable step size (QUESTION 5).\n",
    "    n_iter : int\n",
    "        The number of iterations\n",
    "    w_ini : array, shape (n_features + 1,)\n",
    "        The initial value of w.\n",
    "    loss : str\n",
    "        The type of loss function to use, e.g. \"hinge\" ou \"mse\".\n",
    "    alpha : float\n",
    "        The regularization coefficient.\n",
    "        QUESTION 3\n",
    "    average : bool\n",
    "        Do an averaged stochastic gradient.\n",
    "        QUESTION 2\n",
    "\n",
    "    Returns\n",
    "    -------\n",
    "    w : array, shape (n_features + 1,)\n",
    "        The final weights.\n",
    "    all_w : array, shape (n_iter, n_features + 1)\n",
    "        The weights across iterations.\n",
    "    pobj : array, shape (n_iter,)\n",
    "        The evolution of the cost function across iterations.\n",
    "    \"\"\"\n",
    "    n_samples = X.shape[0]\n",
    "    X = np.concatenate((np.ones((n_samples, 1)), X), axis=1)\n",
    "    all_w = np.zeros((n_iter, w_ini.size))\n",
    "    all_w[0] = w_ini\n",
    "    w = w_ini.copy()\n",
    "    w_moy = w_ini.copy()\n",
    "    pobj = np.zeros(n_iter)\n",
    "\n",
    "    if not callable(gamma):\n",
    "        # Turn gamma to a function for QUESTION ???\n",
    "\n",
    "        def gamma_func(t):\n",
    "            return gamma\n",
    "    else:\n",
    "        gamma_func = gamma\n",
    "\n",
    "    for t in range(n_iter):\n",
    "        idx = np.random.randint(n_samples)\n",
    "        if average is False:\n",
    "            if loss == \"mse\":\n",
    "                pobj[t] = 0.5 * np.mean((y - np.dot(X, w)) ** 2) # QUESTION 2\n",
    "                gradient = X[idx]*(np.dot(X[idx], w) - y[idx]); # QUESTION 2\n",
    "            elif loss == \"hinge\":\n",
    "                gradient = 0.0; # QUESTION 11\n",
    "                raise NotImplementedError('QUESTION 11')\n",
    "            w -= gamma_func(t) * gradient \n",
    "            if alpha > 0:\n",
    "                pobj[t] = np.mean((y - np.dot(X, w)) ** 2) + alpha/2*np.dot(w,w) #QUESTION 6\n",
    "                gradient = X[idx]*(np.dot(X[idx], w) - y[idx]) + alpha*w ; # QUESTION 2\n",
    "        \n",
    "        if average is True:\n",
    "            if loss == \"mse\":\n",
    "                pobj[t] = 0.5 * np.mean((y - np.dot(X, w_moy)) ** 2) \n",
    "                gradient = X[idx]*(np.dot(X[idx], w_moy) - y[idx])\n",
    "            elif loss == \"hinge\":\n",
    "                gradient = 0.0; # QUESTION 11\n",
    "                raise NotImplementedError('QUESTION 11')\n",
    "            if t >= t0: \n",
    "                w_moy = n_iter/(n_iter+1)*w_moy - 1/(n_iter+1)*gamma_func(t)*gradient #QUESTION \n",
    "                \n",
    "        \n",
    "        \n",
    "        #w = w_moy #QUESTION 9\n",
    "        all_w[t] = w\n",
    "    return w, all_w, pobj\n"
   ]
  },
  {
   "cell_type": "markdown",
   "metadata": {},
   "source": [
    "# EX3 / EX4 / EX5 / EX6"
   ]
  },
  {
   "cell_type": "code",
   "execution_count": 156,
   "metadata": {},
   "outputs": [
    {
     "data": {
      "image/png": "[encoded data removed]",
      "text/plain": [
       "<Figure size 432x288 with 1 Axes>"
      ]
     },
     "metadata": {
      "needs_background": "light"
     },
     "output_type": "display_data"
    }
   ],
   "source": [
    "n_samples = 1000\n",
    "n_features = 100\n",
    "n_iter = 1000  # number of iterations\n",
    "gamma = 0.001  # suggested step size\n",
    "\n",
    "def gamma(t):\n",
    "    return 1. / (100 + t)\n",
    "\n",
    "X_toy = np.random.randn(n_samples, n_features)\n",
    "epsilon_toy = np.random.randn(n_samples)\n",
    "w_target = np.ones(n_features)\n",
    "y_toy = X_toy.dot(w_target) + epsilon_toy\n",
    "\n",
    "\n",
    "# Initialize w with just zeros\n",
    "w_ini = np.zeros(X_toy.shape[1] + 1)\n",
    "\n",
    "loss = 'mse'\n",
    "# loss = 'hinge'  # QUESTION 4\n",
    "\n",
    "\n",
    "w_toy, all_w, pobj = stochastic_gradient(X_toy, y_toy, gamma, n_iter, w_ini, loss=loss, alpha=0, average=False)\n",
    "plt.figure()\n",
    "plt.plot(pobj)\n",
    "plt.xlabel('t')\n",
    "plt.ylabel('cost')\n",
    "plt.title('%s stochastic (toy)' % loss)\n",
    "plt.show()"
   ]
  },
  {
   "cell_type": "markdown",
   "metadata": {},
   "source": [
    "EX6: si on prend un terme de régularization, la courbe de loss function est bruitée, le plus grand le alpha, le plus la courbe est bruitée. C'est parce que le alpha est comme un pas dans la fonction de gradiant, si le pas est trop grand, le x va sortir et jamais revenir vers le creux. Au final, loss function prend la somme de error et la quantité de w, son objectif est de trouver un w qui 1. minimiser l'erreur, 2. minimiser w."
   ]
  },
  {
   "cell_type": "markdown",
   "metadata": {},
   "source": [
    "# EX7"
   ]
  },
  {
   "cell_type": "markdown",
   "metadata": {},
   "source": [
    "Le pas devrait être plus en plus petit pour tomber dans le minimisation de la courbe convexe."
   ]
  },
  {
   "cell_type": "markdown",
   "metadata": {},
   "source": [
    "# EX8"
   ]
  },
  {
   "cell_type": "code",
   "execution_count": 138,
   "metadata": {},
   "outputs": [],
   "source": [
    "from sklearn.datasets import load_iris\n",
    "data = load_iris()\n",
    "X = data.data\n",
    "y = data.target\n"
   ]
  },
  {
   "cell_type": "code",
   "execution_count": 139,
   "metadata": {},
   "outputs": [],
   "source": [
    "# Make the problem binary\n",
    "X = X[y < 2]\n",
    "y = y[y < 2]\n",
    "y[y == 0] = -1\n",
    "X = X[:, :2]"
   ]
  },
  {
   "cell_type": "code",
   "execution_count": 140,
   "metadata": {},
   "outputs": [],
   "source": [
    "# A function for vizualizing the data and classification given by w\n",
    "def plot_2d(X, y, w=None):\n",
    "    \"\"\" Plot in 2D the dataset data, colors and symbols according to the\n",
    "    class given by the vector y (if given); the separating hyperplan w can\n",
    "    also be displayed if asked\"\"\"\n",
    "    plt.figure()\n",
    "    symlist = ['o', 's', '+', 'x', 'D', '*', 'p', 'v', '-', '^']\n",
    "    collist = ['blue', 'red', 'purple', 'orange', 'salmon', 'black', 'grey',\n",
    "               'fuchsia']\n",
    "\n",
    "    labs = np.unique(y)\n",
    "    idxbyclass = [y == labs[i] for i in range(len(labs))]\n",
    "\n",
    "    for i in range(len(labs)):\n",
    "        plt.plot(X[idxbyclass[i], 0], X[idxbyclass[i], 1], '+',\n",
    "                 color=collist[i % len(collist)], ls='None',\n",
    "                 marker=symlist[i % len(symlist)])\n",
    "    plt.ylim([np.min(X[:, 1]), np.max(X[:, 1])])\n",
    "    plt.xlim([np.min(X[:, 0]), np.max(X[:, 0])])\n",
    "    mx = np.min(X[:, 0])\n",
    "    maxx = np.max(X[:, 0])\n",
    "    if w is not None:\n",
    "        plt.plot([mx, maxx], [mx * -w[1] / w[2] - w[0] / w[2],\n",
    "                              maxx * -w[1] / w[2] - w[0] / w[2]],\n",
    "                 \"g\", alpha=1.)\n",
    "    plt.show()"
   ]
  },
  {
   "cell_type": "code",
   "execution_count": 145,
   "metadata": {},
   "outputs": [
    {
     "data": {
      "image/png": "[encoded data removed]",
      "text/plain": [
       "<Figure size 432x288 with 1 Axes>"
      ]
     },
     "metadata": {
      "needs_background": "light"
     },
     "output_type": "display_data"
    }
   ],
   "source": [
    "plot_2d(X, y)"
   ]
  },
  {
   "cell_type": "code",
   "execution_count": 161,
   "metadata": {},
   "outputs": [
    {
     "data": {
      "image/png": "[encoded data removed]",
      "text/plain": [
       "<Figure size 432x288 with 1 Axes>"
      ]
     },
     "metadata": {
      "needs_background": "light"
     },
     "output_type": "display_data"
    }
   ],
   "source": [
    "w_ini = np.zeros(X.shape[1] + 1)\n",
    "\n",
    "w_toy, all_w, pobj = stochastic_gradient(X, y, gamma, n_iter, w_ini, loss=\"mse\", alpha=0, average=False)\n",
    "plt.figure()\n",
    "plt.plot(pobj)\n",
    "plt.xlabel('t')\n",
    "plt.ylabel('cost')\n",
    "plt.title('%s stochastic (toy)' % loss)\n",
    "plt.show()"
   ]
  },
  {
   "cell_type": "markdown",
   "metadata": {},
   "source": [
    "# EX9"
   ]
  },
  {
   "cell_type": "code",
   "execution_count": 162,
   "metadata": {},
   "outputs": [
    {
     "data": {
      "image/png": "[encoded data removed]",
      "text/plain": [
       "<Figure size 432x288 with 1 Axes>"
      ]
     },
     "metadata": {
      "needs_background": "light"
     },
     "output_type": "display_data"
    }
   ],
   "source": [
    "w_toy, all_w, pobj = stochastic_gradient(X, y, gamma, n_iter, w_ini, loss=\"mse\", alpha=0, average=True)\n",
    "plt.figure()\n",
    "plt.plot(pobj)\n",
    "plt.xlabel('t')\n",
    "plt.ylabel('cost')\n",
    "plt.title('%s stochastic (toy)' % loss)\n",
    "plt.show()"
   ]
  },
  {
   "cell_type": "code",
   "execution_count": null,
   "metadata": {},
   "outputs": [],
   "source": []
  },
  {
   "cell_type": "code",
   "execution_count": null,
   "metadata": {},
   "outputs": [],
   "source": []
  }
 ],
 "metadata": {
  "kernelspec": {
   "display_name": "Python 3",
   "language": "python",
   "name": "python3"
  },
  "language_info": {
   "codemirror_mode": {
    "name": "ipython",
    "version": 3
   },
   "file_extension": ".py",
   "mimetype": "text/x-python",
   "name": "python",
   "nbconvert_exporter": "python",
   "pygments_lexer": "ipython3",
   "version": "3.7.4"
  },
  "toc": {
   "base_numbering": 1,
   "nav_menu": {},
   "number_sections": true,
   "sideBar": true,
   "skip_h1_title": false,
   "title_cell": "Table of Contents",
   "title_sidebar": "Contents",
   "toc_cell": false,
   "toc_position": {},
   "toc_section_display": true,
   "toc_window_display": false
  }
 },
 "nbformat": 4,
 "nbformat_minor": 2
}
